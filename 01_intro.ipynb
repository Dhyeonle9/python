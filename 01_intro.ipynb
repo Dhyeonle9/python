{
 "cells": [
  {
   "cell_type": "markdown",
   "id": "e1fcda89-720a-4d50-b8a6-8b9352b4f38a",
   "metadata": {},
   "source": [
    "\n",
    "# 01. Intro"
   ]
  },
  {
   "cell_type": "markdown",
   "id": "96d28ccd-1eba-4071-9612-e5f74bd8af79",
   "metadata": {},
   "source": [
    "## 단축키\n",
    "\n",
    "- ctrl + Enter : 현재 셀을 실행\n",
    "- shift + Enter : 현재 셀 실행하고 아래셀로 이동 (커서만 이동)\n",
    "- art + Enter : 현재 셀을 실행하고 아래에 새로운 셀 추가"
   ]
  },
  {
   "cell_type": "code",
   "execution_count": null,
   "id": "c4bd5654-c25b-4252-aece-d3afc08233d4",
   "metadata": {},
   "outputs": [],
   "source": [
    "# 주석입니다."
   ]
  },
  {
   "cell_type": "markdown",
   "id": "b098902e-ab0d-485a-a2e0-68ece4931da0",
   "metadata": {},
   "source": [
    "## 1. 변수\n",
    "\n",
    "변수이름 `=` 값\n",
    "\n",
    "- 변수이름은 어떤 이름이든 상관 없음\n",
    "- 영어, 숫자, `_` 를 이용하여 선언\n",
    "- 키워드는 사용불가"
   ]
  },
  {
   "cell_type": "code",
   "execution_count": 1,
   "id": "de83407e-705f-4832-8774-4bb84226524e",
   "metadata": {},
   "outputs": [],
   "source": [
    "a = 10"
   ]
  },
  {
   "cell_type": "code",
   "execution_count": 2,
   "id": "928d1e38-b603-4a31-971d-cb882405e797",
   "metadata": {
    "scrolled": true
   },
   "outputs": [
    {
     "data": {
      "text/plain": [
       "10"
      ]
     },
     "execution_count": 2,
     "metadata": {},
     "output_type": "execute_result"
    }
   ],
   "source": [
    "a"
   ]
  },
  {
   "cell_type": "code",
   "execution_count": 4,
   "id": "2d531e4e-1df3-4b14-b789-486c8b09d779",
   "metadata": {},
   "outputs": [
    {
     "data": {
      "text/plain": [
       "['False',\n",
       " 'None',\n",
       " 'True',\n",
       " 'and',\n",
       " 'as',\n",
       " 'assert',\n",
       " 'async',\n",
       " 'await',\n",
       " 'break',\n",
       " 'class',\n",
       " 'continue',\n",
       " 'def',\n",
       " 'del',\n",
       " 'elif',\n",
       " 'else',\n",
       " 'except',\n",
       " 'finally',\n",
       " 'for',\n",
       " 'from',\n",
       " 'global',\n",
       " 'if',\n",
       " 'import',\n",
       " 'in',\n",
       " 'is',\n",
       " 'lambda',\n",
       " 'nonlocal',\n",
       " 'not',\n",
       " 'or',\n",
       " 'pass',\n",
       " 'raise',\n",
       " 'return',\n",
       " 'try',\n",
       " 'while',\n",
       " 'with',\n",
       " 'yield']"
      ]
     },
     "execution_count": 4,
     "metadata": {},
     "output_type": "execute_result"
    }
   ],
   "source": [
    "import keyword\n",
    "keyword.kwlist"
   ]
  },
  {
   "cell_type": "markdown",
   "id": "89fddf10-4ad4-4a4e-a19e-eb82d00208e8",
   "metadata": {},
   "source": [
    "### 1.1 number"
   ]
  },
  {
   "cell_type": "code",
   "execution_count": 6,
   "id": "e770e1f9-2e97-4c06-ad8c-b52da2b000fb",
   "metadata": {},
   "outputs": [],
   "source": [
    "a = 100000"
   ]
  },
  {
   "cell_type": "code",
   "execution_count": 8,
   "id": "7e34ae3b-e131-437b-b6e5-4ccf26e48094",
   "metadata": {},
   "outputs": [
    {
     "data": {
      "text/plain": [
       "100000"
      ]
     },
     "execution_count": 8,
     "metadata": {},
     "output_type": "execute_result"
    }
   ],
   "source": [
    "a"
   ]
  },
  {
   "cell_type": "code",
   "execution_count": 9,
   "id": "84c46917-3601-4a95-ae6d-8be1a3b5dc99",
   "metadata": {},
   "outputs": [
    {
     "data": {
      "text/plain": [
       "int"
      ]
     },
     "execution_count": 9,
     "metadata": {},
     "output_type": "execute_result"
    }
   ],
   "source": [
    "type(a)"
   ]
  },
  {
   "cell_type": "code",
   "execution_count": 10,
   "id": "27731beb-1b35-4caf-bbb6-2b391fa44757",
   "metadata": {},
   "outputs": [],
   "source": [
    "b = 1.1"
   ]
  },
  {
   "cell_type": "code",
   "execution_count": 12,
   "id": "1f3d79a0-babf-4f31-b55a-96ac4d073ea6",
   "metadata": {
    "scrolled": true
   },
   "outputs": [
    {
     "data": {
      "text/plain": [
       "float"
      ]
     },
     "execution_count": 12,
     "metadata": {},
     "output_type": "execute_result"
    }
   ],
   "source": [
    "type(b)"
   ]
  },
  {
   "cell_type": "code",
   "execution_count": 13,
   "id": "28a222ff-f944-4358-a620-346dbc7e392b",
   "metadata": {},
   "outputs": [],
   "source": [
    "c = 1 - 4j"
   ]
  },
  {
   "cell_type": "code",
   "execution_count": 14,
   "id": "78ee7bdb-1dda-4400-8b43-973eefcc42c5",
   "metadata": {},
   "outputs": [
    {
     "data": {
      "text/plain": [
       "(1-4j)"
      ]
     },
     "execution_count": 14,
     "metadata": {},
     "output_type": "execute_result"
    }
   ],
   "source": [
    "c"
   ]
  },
  {
   "cell_type": "code",
   "execution_count": 15,
   "id": "0441e26b-1603-4a30-9ef3-b652bc41e58e",
   "metadata": {},
   "outputs": [
    {
     "data": {
      "text/plain": [
       "complex"
      ]
     },
     "execution_count": 15,
     "metadata": {},
     "output_type": "execute_result"
    }
   ],
   "source": [
    "type(c)"
   ]
  },
  {
   "cell_type": "code",
   "execution_count": 16,
   "id": "4ce4e146-04f2-486a-a335-4ce953e99442",
   "metadata": {},
   "outputs": [
    {
     "data": {
      "text/plain": [
       "-4.0"
      ]
     },
     "execution_count": 16,
     "metadata": {},
     "output_type": "execute_result"
    }
   ],
   "source": [
    "c.imag\n"
   ]
  },
  {
   "cell_type": "code",
   "execution_count": 17,
   "id": "6636e6ea-184b-4ea3-bf9f-864202c9efd9",
   "metadata": {},
   "outputs": [
    {
     "data": {
      "text/plain": [
       "1.0"
      ]
     },
     "execution_count": 17,
     "metadata": {},
     "output_type": "execute_result"
    }
   ],
   "source": [
    "c.real"
   ]
  },
  {
   "cell_type": "markdown",
   "id": "5b96dda0-3f6a-4653-bbad-00c47a3885c7",
   "metadata": {},
   "source": [
    "### 1.2 Boolean\n",
    "\n",
    "`True`, `False` 로 이루어진 타입"
   ]
  },
  {
   "cell_type": "code",
   "execution_count": 18,
   "id": "6a984434-facc-4e69-a7e1-15a85e4dbedf",
   "metadata": {},
   "outputs": [],
   "source": [
    "a = True"
   ]
  },
  {
   "cell_type": "code",
   "execution_count": 19,
   "id": "c47367d2-c20b-435c-8598-68031d5a3f40",
   "metadata": {},
   "outputs": [
    {
     "data": {
      "text/plain": [
       "bool"
      ]
     },
     "execution_count": 19,
     "metadata": {},
     "output_type": "execute_result"
    }
   ],
   "source": [
    "type(a)"
   ]
  },
  {
   "cell_type": "markdown",
   "id": "bb50f9bf-3dbb-42ed-b81a-77dcb30ae3b4",
   "metadata": {},
   "source": [
    "### 1.3 None\n",
    "데이터가 없음을 의미"
   ]
  },
  {
   "cell_type": "code",
   "execution_count": 20,
   "id": "bac3721f-5b6e-444f-9126-b18f1de614fe",
   "metadata": {},
   "outputs": [],
   "source": [
    "a = None"
   ]
  },
  {
   "cell_type": "code",
   "execution_count": 21,
   "id": "8976414f-1f1a-45d2-88a1-b71b3834af62",
   "metadata": {},
   "outputs": [
    {
     "data": {
      "text/plain": [
       "NoneType"
      ]
     },
     "execution_count": 21,
     "metadata": {},
     "output_type": "execute_result"
    }
   ],
   "source": [
    "type(a)"
   ]
  },
  {
   "cell_type": "markdown",
   "id": "ac9bbf8a-b4e3-4e87-9a2c-909f340362ec",
   "metadata": {},
   "source": [
    "### 1.4 String\n",
    "- 문자열은 `'`. `\"`를 이용하여 표현"
   ]
  },
  {
   "cell_type": "code",
   "execution_count": 22,
   "id": "4ccfbd76-6d00-4027-b9ab-417b0cec3226",
   "metadata": {},
   "outputs": [],
   "source": [
    "a = 'hello'"
   ]
  },
  {
   "cell_type": "code",
   "execution_count": 23,
   "id": "cbed6d7d-1cc4-4c32-ab24-ce85b4bc8f50",
   "metadata": {},
   "outputs": [
    {
     "data": {
      "text/plain": [
       "str"
      ]
     },
     "execution_count": 23,
     "metadata": {},
     "output_type": "execute_result"
    }
   ],
   "source": [
    "type(a)"
   ]
  },
  {
   "cell_type": "code",
   "execution_count": 24,
   "id": "768cbfd2-b97d-428a-9c19-25e66e03166d",
   "metadata": {},
   "outputs": [],
   "source": [
    "b = \"world\""
   ]
  },
  {
   "cell_type": "code",
   "execution_count": 25,
   "id": "672b93ec-9c5e-4f77-a062-d1e118352958",
   "metadata": {},
   "outputs": [
    {
     "data": {
      "text/plain": [
       "str"
      ]
     },
     "execution_count": 25,
     "metadata": {},
     "output_type": "execute_result"
    }
   ],
   "source": [
    "type(b)"
   ]
  },
  {
   "cell_type": "code",
   "execution_count": 39,
   "id": "d403654f-c990-45dc-8131-a5d32f3bd41b",
   "metadata": {
    "scrolled": true
   },
   "outputs": [
    {
     "name": "stdin",
     "output_type": "stream",
     "text": [
      " 11\n"
     ]
    }
   ],
   "source": [
    "age = input()\n",
    "#input 함수는 str 형으로 값을 받음"
   ]
  },
  {
   "cell_type": "code",
   "execution_count": 40,
   "id": "8c2cad10-e703-4b8d-aaca-8ec528c36e12",
   "metadata": {},
   "outputs": [
    {
     "data": {
      "text/plain": [
       "'11'"
      ]
     },
     "execution_count": 40,
     "metadata": {},
     "output_type": "execute_result"
    }
   ],
   "source": [
    "age"
   ]
  },
  {
   "cell_type": "code",
   "execution_count": 30,
   "id": "b168300b-4156-4cd5-9844-f0bc8838a4e8",
   "metadata": {},
   "outputs": [
    {
     "data": {
      "text/plain": [
       "str"
      ]
     },
     "execution_count": 30,
     "metadata": {},
     "output_type": "execute_result"
    }
   ],
   "source": [
    "type(age)"
   ]
  },
  {
   "cell_type": "code",
   "execution_count": 37,
   "id": "7b9e69b8-8548-45c2-88a7-2428e3f6eb3f",
   "metadata": {},
   "outputs": [
    {
     "ename": "SyntaxError",
     "evalue": "invalid syntax. Perhaps you forgot a comma? (1872978134.py, line 1)",
     "output_type": "error",
     "traceback": [
      "\u001b[1;36m  Cell \u001b[1;32mIn[37], line 1\u001b[1;36m\u001b[0m\n\u001b[1;33m    print('안녕하세요? '이도현'입니다.')\u001b[0m\n\u001b[1;37m          ^\u001b[0m\n\u001b[1;31mSyntaxError\u001b[0m\u001b[1;31m:\u001b[0m invalid syntax. Perhaps you forgot a comma?\n"
     ]
    }
   ],
   "source": [
    "print('안녕하세요? '이도현'입니다.')"
   ]
  },
  {
   "cell_type": "code",
   "execution_count": 34,
   "id": "ba48ca32-1c78-43c0-a01a-08c86c1de023",
   "metadata": {},
   "outputs": [
    {
     "name": "stdout",
     "output_type": "stream",
     "text": [
      "안녕하세요? '이도현'입니다.\n"
     ]
    }
   ],
   "source": [
    "print(\"안녕하세요? '이도현'입니다.\")"
   ]
  },
  {
   "cell_type": "code",
   "execution_count": 36,
   "id": "d8ea486b-2d9c-4213-bca8-53ecde8d3cf6",
   "metadata": {},
   "outputs": [
    {
     "name": "stdout",
     "output_type": "stream",
     "text": [
      "안녕하세요? '이도현'입니다.\n"
     ]
    }
   ],
   "source": [
    "print('안녕하세요? \\'이도현\\'입니다.')\n",
    "#escape문: back slash 뒤의 문자는 문자그대로 인식"
   ]
  },
  {
   "cell_type": "code",
   "execution_count": 54,
   "id": "70a8cd0c-7f06-4fd0-bd29-ccfccb04f7ed",
   "metadata": {},
   "outputs": [],
   "source": [
    "a = '''\n",
    "여기는 \\n문자열입니다.\n",
    "여러\\t줄을 작성할 수 있어요.\n",
    "'''"
   ]
  },
  {
   "cell_type": "code",
   "execution_count": 55,
   "id": "82882198-6bbd-4295-8d86-5d4c36b94df2",
   "metadata": {},
   "outputs": [
    {
     "data": {
      "text/plain": [
       "'\\n여기는 \\n문자열입니다.\\n여러\\t줄을 작성할 수 있어요.\\n'"
      ]
     },
     "execution_count": 55,
     "metadata": {},
     "output_type": "execute_result"
    }
   ],
   "source": [
    "a"
   ]
  },
  {
   "cell_type": "code",
   "execution_count": 56,
   "id": "b0ef7218-c006-43cc-922f-b67d9c88be11",
   "metadata": {},
   "outputs": [
    {
     "name": "stdout",
     "output_type": "stream",
     "text": [
      "\n",
      "여기는 \n",
      "문자열입니다.\n",
      "여러\t줄을 작성할 수 있어요.\n",
      "\n"
     ]
    }
   ],
   "source": [
    "print(a)"
   ]
  },
  {
   "cell_type": "code",
   "execution_count": 57,
   "id": "1512fd71-4f68-45aa-99ae-4d4022d6202d",
   "metadata": {},
   "outputs": [
    {
     "name": "stdout",
     "output_type": "stream",
     "text": [
      "하나 둘 셋\n"
     ]
    }
   ],
   "source": [
    "print('하나', '둘', '셋')"
   ]
  },
  {
   "cell_type": "code",
   "execution_count": 58,
   "id": "215d4a36-e304-4296-8de1-40116fe2b3ec",
   "metadata": {},
   "outputs": [
    {
     "name": "stdout",
     "output_type": "stream",
     "text": [
      "하나 \n",
      "여기는 \n",
      "문자열입니다.\n",
      "여러\t줄을 작성할 수 있어요.\n",
      " 둘\n"
     ]
    }
   ],
   "source": [
    "print('하나', a, '둘')"
   ]
  },
  {
   "cell_type": "markdown",
   "id": "28a560df-04a3-417f-8882-d3b2f31e197d",
   "metadata": {},
   "source": [
    "### string interpolation\n",
    "1. %-formating\n",
    "2. str.format()\n",
    "3. f-string - 가장 최신이며 가독성 좋음. 주로 이용"
   ]
  },
  {
   "cell_type": "code",
   "execution_count": 61,
   "id": "09fc92e3-de4e-4d77-8b59-2019ff816475",
   "metadata": {},
   "outputs": [],
   "source": [
    "age = 100"
   ]
  },
  {
   "cell_type": "code",
   "execution_count": 62,
   "id": "3c07e116-3994-49b6-8a4d-e63e1ebf8280",
   "metadata": {},
   "outputs": [
    {
     "name": "stdout",
     "output_type": "stream",
     "text": [
      "홍길동은 100살입니다.\n"
     ]
    }
   ],
   "source": [
    "print('홍길동은 %s살입니다.' % age)"
   ]
  },
  {
   "cell_type": "code",
   "execution_count": 63,
   "id": "789e4cd1-692e-4633-acf3-edd91414144d",
   "metadata": {},
   "outputs": [
    {
     "name": "stdout",
     "output_type": "stream",
     "text": [
      "홍길동은 100살입니다.\n"
     ]
    }
   ],
   "source": [
    "print('홍길동은 {}살입니다.'.format(age))"
   ]
  },
  {
   "cell_type": "code",
   "execution_count": 64,
   "id": "d80858ee-6898-47ac-80e9-f94b7f886c4f",
   "metadata": {},
   "outputs": [
    {
     "name": "stdout",
     "output_type": "stream",
     "text": [
      "홍길동은 100살입니다.\n"
     ]
    }
   ],
   "source": [
    "print(f'홍길동은 {age}살입니다.')"
   ]
  },
  {
   "cell_type": "markdown",
   "id": "ca17fe48-0641-4f43-9475-5fa685f0b5e2",
   "metadata": {},
   "source": [
    "## 2. 연산자\n",
    "### 2.1 산술연산자"
   ]
  },
  {
   "cell_type": "code",
   "execution_count": 65,
   "id": "07a5bae0-79ec-44f4-bd46-1678a0c5c64a",
   "metadata": {},
   "outputs": [],
   "source": [
    "a = 2\n",
    "b = 3"
   ]
  },
  {
   "cell_type": "code",
   "execution_count": 70,
   "id": "f22e2e4c-6140-469d-aecd-c04ff9541dbd",
   "metadata": {},
   "outputs": [
    {
     "name": "stdout",
     "output_type": "stream",
     "text": [
      "5\n",
      "-1\n",
      "6\n",
      "0.6666666666666666\n"
     ]
    }
   ],
   "source": [
    "print(a + b)\n",
    "print(a - b)\n",
    "print(a * b)\n",
    "print(a / b)\n",
    "#print"
   ]
  },
  {
   "cell_type": "code",
   "execution_count": 71,
   "id": "862e049b-b819-42d6-9f8f-f98d162dbfdf",
   "metadata": {},
   "outputs": [
    {
     "data": {
      "text/plain": [
       "-1"
      ]
     },
     "execution_count": 71,
     "metadata": {},
     "output_type": "execute_result"
    }
   ],
   "source": [
    "a + b\n",
    "a - b\n",
    "# 한 셀의 맨 마지막 줄의 연산만 출력\n",
    "# output 출력 (return)"
   ]
  },
  {
   "cell_type": "code",
   "execution_count": 73,
   "id": "5438a4fb-2cbf-4e23-a1e2-d531b377d67b",
   "metadata": {},
   "outputs": [
    {
     "name": "stdout",
     "output_type": "stream",
     "text": [
      "8\n"
     ]
    }
   ],
   "source": [
    "print(a ** b)\n",
    "# 지수"
   ]
  },
  {
   "cell_type": "code",
   "execution_count": 75,
   "id": "cf7d6a71-b96c-4d3c-ba9c-62d9b1581630",
   "metadata": {},
   "outputs": [
    {
     "name": "stdout",
     "output_type": "stream",
     "text": [
      "0\n",
      "2\n",
      "(0, 2)\n"
     ]
    }
   ],
   "source": [
    "print(a // b)\n",
    "# a를 b로 나눈 몫\n",
    "print(a % b)\n",
    "# a를 b로 나눈 나머지\n",
    "\n",
    "#mod연산자\n",
    "print(divmod(a,b))"
   ]
  },
  {
   "cell_type": "markdown",
   "id": "178b37f5-2735-4ec8-b8cc-f905d8add09e",
   "metadata": {},
   "source": [
    "### 2.2 비교연산자"
   ]
  },
  {
   "cell_type": "code",
   "execution_count": 76,
   "id": "21e9fe38-89a9-45d6-bae4-5f0f03c13c64",
   "metadata": {},
   "outputs": [],
   "source": [
    "a = 5\n",
    "b = 10"
   ]
  },
  {
   "cell_type": "code",
   "execution_count": 80,
   "id": "f1863c4f-a5c1-4fc3-b98e-6087e504b19f",
   "metadata": {},
   "outputs": [
    {
     "name": "stdout",
     "output_type": "stream",
     "text": [
      "False\n",
      "True\n",
      "False\n",
      "True\n"
     ]
    }
   ],
   "source": [
    "print(a > b)\n",
    "print(a < b)\n",
    "print(a >= b)\n",
    "print(a <= b)\n",
    "# a보다 b가 큰가요?, 연산결과를 True/False로 출력"
   ]
  },
  {
   "cell_type": "code",
   "execution_count": 84,
   "id": "e7b794dc-fa86-44c9-8d00-36e6d1e848a8",
   "metadata": {},
   "outputs": [
    {
     "name": "stdout",
     "output_type": "stream",
     "text": [
      "False\n",
      "True\n"
     ]
    }
   ],
   "source": [
    "print(a == b)\n",
    "print(a != b)"
   ]
  },
  {
   "cell_type": "code",
   "execution_count": 86,
   "id": "88ccf1e3-7b0f-4daa-8e00-b4f7c524aa6f",
   "metadata": {},
   "outputs": [
    {
     "name": "stdout",
     "output_type": "stream",
     "text": [
      "True\n",
      "False\n"
     ]
    }
   ],
   "source": [
    "print('hi' == 'hi')\n",
    "print('Hi' == 'hi')"
   ]
  },
  {
   "cell_type": "markdown",
   "id": "9de0b232-cde2-4ab8-b5d2-5a26d22a28aa",
   "metadata": {},
   "source": [
    "### 2.3 논리연산자\n",
    "- `and` : 양쪽 모두 `True`일 때, `True`를 반환\n",
    "- `or` : 양쪽 모두 `False`일 때, `False`를 반환\n",
    "- `not` : 값을 반대로 전환"
   ]
  },
  {
   "cell_type": "code",
   "execution_count": 93,
   "id": "bfca38bb-139e-4f78-8425-78b641d05169",
   "metadata": {},
   "outputs": [
    {
     "name": "stdout",
     "output_type": "stream",
     "text": [
      "True\n",
      "False\n",
      "False\n",
      "False\n"
     ]
    }
   ],
   "source": [
    "print(True and True)\n",
    "print(True and False)\n",
    "print(False and True)\n",
    "print(False and False)"
   ]
  },
  {
   "cell_type": "code",
   "execution_count": 94,
   "id": "c2268020-b974-4c02-8257-dafa1d7451a2",
   "metadata": {},
   "outputs": [
    {
     "name": "stdout",
     "output_type": "stream",
     "text": [
      "True\n",
      "True\n",
      "True\n",
      "False\n"
     ]
    }
   ],
   "source": [
    "print(True or True)\n",
    "print(True or False)\n",
    "print(False or True)\n",
    "print(False or False)"
   ]
  },
  {
   "cell_type": "code",
   "execution_count": 96,
   "id": "4558e276-d0ad-4057-b008-df2e26e94e3f",
   "metadata": {},
   "outputs": [
    {
     "name": "stdout",
     "output_type": "stream",
     "text": [
      "True\n",
      "False\n",
      "False\n"
     ]
    }
   ],
   "source": [
    "print(True)\n",
    "print(not True)\n",
    "\n",
    "a = True\n",
    "print(not a)"
   ]
  },
  {
   "cell_type": "code",
   "execution_count": 99,
   "id": "cce0a773-6777-423f-a950-cb8e990dbbc5",
   "metadata": {},
   "outputs": [
    {
     "name": "stdout",
     "output_type": "stream",
     "text": [
      "5\n",
      "0\n",
      "0\n",
      "0\n"
     ]
    }
   ],
   "source": [
    "# 단축평가(and)\n",
    "\n",
    "print(3 and 5) # True and True - 뒷 데이터가 중요\n",
    "print(3 and 0) # True and False - 뒷 데이터가 중요\n",
    "print(0 and 5) # False and True - 앞 데이터가 결정\n",
    "print(0 and 0) # False and False - 앞 데이터가 결정"
   ]
  },
  {
   "cell_type": "code",
   "execution_count": 100,
   "id": "e414b16e-2ec3-4eb1-8451-77ee16778fd0",
   "metadata": {},
   "outputs": [
    {
     "name": "stdout",
     "output_type": "stream",
     "text": [
      "3\n",
      "3\n",
      "5\n",
      "0\n"
     ]
    }
   ],
   "source": [
    "# 단축평가(or)\n",
    "\n",
    "print(3 or 5) # True or True - 앞 데이터가 True면 뒷 데이터 중요x\n",
    "print(3 or 0) # True or False - 앞 데이터가 True면 뒷 데이터 중요x\n",
    "print(0 or 5) # False or True  - 뒷 데이터가 중요해짐\n",
    "print(0 or 0) # False or False - 뒷 데이터가 중요해짐"
   ]
  },
  {
   "cell_type": "code",
   "execution_count": 102,
   "id": "0eb40a90-624a-4bf5-8834-b0005c4fbc8c",
   "metadata": {},
   "outputs": [
    {
     "name": "stdout",
     "output_type": "stream",
     "text": [
      "index.html\n"
     ]
    }
   ],
   "source": [
    "print(None or 'index.html')\n",
    "# None == False"
   ]
  },
  {
   "cell_type": "code",
   "execution_count": 103,
   "id": "068e5e25-e759-4852-91f3-3c34a48d85e0",
   "metadata": {},
   "outputs": [
    {
     "name": "stdout",
     "output_type": "stream",
     "text": [
      "login.html\n"
     ]
    }
   ],
   "source": [
    "print('login.html' or 'index.html')"
   ]
  },
  {
   "cell_type": "markdown",
   "id": "a20d8817-829f-4c58-b020-0ff0818ef1b2",
   "metadata": {},
   "source": [
    "### 2.4 복합연산자"
   ]
  },
  {
   "cell_type": "code",
   "execution_count": 105,
   "id": "6bdd30fd-ab98-47b5-8ffa-2999845e2506",
   "metadata": {},
   "outputs": [],
   "source": [
    "a = 2\n",
    "b = 3"
   ]
  },
  {
   "cell_type": "code",
   "execution_count": 109,
   "id": "5876a6cb-c151-477a-99b7-dce7006c756c",
   "metadata": {},
   "outputs": [],
   "source": [
    "a = a + b\n",
    "a = a - b\n",
    "a = a * b\n",
    "a = a / b\n",
    "a = a // b\n",
    "a = a % b\n",
    "a = a ** b"
   ]
  },
  {
   "cell_type": "code",
   "execution_count": 110,
   "id": "2381d2ae-b044-4de1-971a-2f403e3a41cf",
   "metadata": {},
   "outputs": [
    {
     "name": "stdout",
     "output_type": "stream",
     "text": [
      "8\n"
     ]
    }
   ],
   "source": [
    "print(a)"
   ]
  },
  {
   "cell_type": "code",
   "execution_count": 113,
   "id": "4e0600ff-14d5-420f-bdb3-7061d2420d32",
   "metadata": {},
   "outputs": [
    {
     "name": "stdout",
     "output_type": "stream",
     "text": [
      "0.0\n"
     ]
    }
   ],
   "source": [
    "a += b # a = a + b\n",
    "a -= b # a = a - b\n",
    "a *= b\n",
    "a /= b\n",
    "a //= b\n",
    "a %= b\n",
    "a **= b\n",
    "print(a)"
   ]
  },
  {
   "cell_type": "markdown",
   "id": "72aee49f-b1a1-4162-82e8-a1ceb9ba12d1",
   "metadata": {},
   "source": [
    "### 2.4 기타연산자"
   ]
  },
  {
   "cell_type": "code",
   "execution_count": 114,
   "id": "4560814f-ca13-42b7-87f8-5de4f336f8c7",
   "metadata": {},
   "outputs": [],
   "source": [
    "a = 'hi'\n",
    "b = 'hello'"
   ]
  },
  {
   "cell_type": "code",
   "execution_count": 116,
   "id": "7ac504da-2e09-4cf0-9c48-c27a4a90eec6",
   "metadata": {},
   "outputs": [
    {
     "data": {
      "text/plain": [
       "'hihello'"
      ]
     },
     "execution_count": 116,
     "metadata": {},
     "output_type": "execute_result"
    }
   ],
   "source": [
    "#concatenation\n",
    "a + b"
   ]
  },
  {
   "cell_type": "code",
   "execution_count": 117,
   "id": "f1f9b7c4-50ce-4506-9d26-364d21fc1e64",
   "metadata": {},
   "outputs": [],
   "source": [
    "a = [1, 2, 3]\n",
    "b = [9, 8, 7]"
   ]
  },
  {
   "cell_type": "code",
   "execution_count": 118,
   "id": "62f9a106-2098-4ddc-83d4-a96774c7592b",
   "metadata": {},
   "outputs": [
    {
     "data": {
      "text/plain": [
       "[1, 2, 3, 9, 8, 7]"
      ]
     },
     "execution_count": 118,
     "metadata": {},
     "output_type": "execute_result"
    }
   ],
   "source": [
    "a + b"
   ]
  },
  {
   "cell_type": "code",
   "execution_count": 121,
   "id": "58290520-c9a8-4fa8-b1f5-00ea00ea8071",
   "metadata": {},
   "outputs": [
    {
     "name": "stdout",
     "output_type": "stream",
     "text": [
      "True\n",
      "False\n"
     ]
    }
   ],
   "source": [
    "# containment\n",
    "print('a' in 'apple')\n",
    "print('z' in 'apple')"
   ]
  },
  {
   "cell_type": "code",
   "execution_count": 122,
   "id": "fb5ac9d2-c648-4e94-8bb3-486d4b60d1ad",
   "metadata": {},
   "outputs": [
    {
     "name": "stdout",
     "output_type": "stream",
     "text": [
      "True\n",
      "False\n"
     ]
    }
   ],
   "source": [
    "print(1 in [1, 2, 3])\n",
    "print(100 in [1, 2, 3])"
   ]
  },
  {
   "cell_type": "code",
   "execution_count": 123,
   "id": "aa8cc33c-e28a-45ee-ae13-2815c24369e5",
   "metadata": {},
   "outputs": [
    {
     "name": "stdout",
     "output_type": "stream",
     "text": [
      "False\n"
     ]
    }
   ],
   "source": [
    "a = 123123\n",
    "b = 123123\n",
    "print (a is b) # 값은 같지만 주소값(object)가 다름"
   ]
  },
  {
   "cell_type": "code",
   "execution_count": 128,
   "id": "22f0ffb3-040e-4447-99c0-ed95fde56c33",
   "metadata": {},
   "outputs": [
    {
     "name": "stdout",
     "output_type": "stream",
     "text": [
      "True\n"
     ]
    }
   ],
   "source": [
    "a = 10\n",
    "b = 10\n",
    "print(a is b)\n",
    "# -5~256의 숫자는 미리 할당되어있음 - 같은위치에서 가져옴"
   ]
  },
  {
   "cell_type": "markdown",
   "id": "5a567de8-78e6-45de-b32f-af740d759f7a",
   "metadata": {},
   "source": [
    "#### 연산자 우선순위 \n",
    "\n",
    "0. ()를 통해 그룹\n",
    "1. **\n",
    "2. 산술연산자(*, /)\n",
    "3. 산술연산자(+, -)\n",
    "4. 비교연산자, is, in\n",
    "5. not\n",
    "6. and, or"
   ]
  },
  {
   "cell_type": "code",
   "execution_count": 129,
   "id": "819968ab-aa8f-4cf6-a40a-2f225b124855",
   "metadata": {},
   "outputs": [
    {
     "name": "stdout",
     "output_type": "stream",
     "text": [
      "-81\n",
      "81\n"
     ]
    }
   ],
   "source": [
    "#연산자 우선순위에 따라 연산되기때문에 원하는 연산을 위해 소괄호() 등을 통해 우선순위 설정 필요\n",
    "print(-3 ** 4)\n",
    "print((-3) ** 4)"
   ]
  },
  {
   "cell_type": "markdown",
   "id": "fa074322-75f9-4e28-ab5d-425876697797",
   "metadata": {},
   "source": [
    "## 3. 형변환\n",
    "### 3.1 암시적 형변환"
   ]
  },
  {
   "cell_type": "code",
   "execution_count": 130,
   "id": "f95af81a-570f-423a-8f87-5b7022df2f43",
   "metadata": {},
   "outputs": [],
   "source": [
    "a = True\n",
    "b = False\n",
    "c = 1"
   ]
  },
  {
   "cell_type": "code",
   "execution_count": 132,
   "id": "8fac1067-85aa-4ef7-8b08-80ed187024e7",
   "metadata": {},
   "outputs": [
    {
     "name": "stdout",
     "output_type": "stream",
     "text": [
      "2\n",
      "1\n"
     ]
    }
   ],
   "source": [
    "print(a + c)\n",
    "print(b + c)"
   ]
  },
  {
   "cell_type": "code",
   "execution_count": 133,
   "id": "125eec49-30a5-4b0b-90ef-965ce7c6ad24",
   "metadata": {},
   "outputs": [],
   "source": [
    "int_num = 3\n",
    "float_num = 3.3\n",
    "complex_num = 3 + 3j"
   ]
  },
  {
   "cell_type": "code",
   "execution_count": 135,
   "id": "7ef17143-9125-481b-aaef-7cd50f118c89",
   "metadata": {},
   "outputs": [
    {
     "name": "stdout",
     "output_type": "stream",
     "text": [
      "6.3\n",
      "(6+3j)\n"
     ]
    }
   ],
   "source": [
    "print(int_num + float_num)\n",
    "print(int_num + complex_num)"
   ]
  },
  {
   "cell_type": "markdown",
   "id": "650cb0c5-45d0-4606-84af-fcaa4d8483b8",
   "metadata": {},
   "source": [
    "### 3.2 명시적 형변환"
   ]
  },
  {
   "cell_type": "code",
   "execution_count": 136,
   "id": "d4e49610-5274-4620-bd3e-842a51187724",
   "metadata": {},
   "outputs": [],
   "source": [
    "a = 1\n",
    "b = '번'"
   ]
  },
  {
   "cell_type": "code",
   "execution_count": 137,
   "id": "62206ee7-1a4e-40ce-9d49-ad62f40da185",
   "metadata": {},
   "outputs": [
    {
     "ename": "TypeError",
     "evalue": "unsupported operand type(s) for +: 'int' and 'str'",
     "output_type": "error",
     "traceback": [
      "\u001b[1;31m---------------------------------------------------------------------------\u001b[0m",
      "\u001b[1;31mTypeError\u001b[0m                                 Traceback (most recent call last)",
      "Cell \u001b[1;32mIn[137], line 1\u001b[0m\n\u001b[1;32m----> 1\u001b[0m \u001b[43ma\u001b[49m\u001b[43m \u001b[49m\u001b[38;5;241;43m+\u001b[39;49m\u001b[43m \u001b[49m\u001b[43mb\u001b[49m\n",
      "\u001b[1;31mTypeError\u001b[0m: unsupported operand type(s) for +: 'int' and 'str'"
     ]
    }
   ],
   "source": [
    "# a + b는 형태가 달라서 연산 불가"
   ]
  },
  {
   "cell_type": "code",
   "execution_count": 139,
   "id": "79c1fdd0-8048-410c-a7e9-a09c6d8a883b",
   "metadata": {},
   "outputs": [
    {
     "name": "stdout",
     "output_type": "stream",
     "text": [
      "1번\n"
     ]
    }
   ],
   "source": [
    "print(str(a) + b) #형변환을 통하여 통일시켜서 연산가능"
   ]
  },
  {
   "cell_type": "code",
   "execution_count": 140,
   "id": "67633082-9af4-4b4b-b823-3451d76b4f78",
   "metadata": {},
   "outputs": [],
   "source": [
    "a = '100'"
   ]
  },
  {
   "cell_type": "code",
   "execution_count": 142,
   "id": "24c8a181-2c76-4c16-bdfe-fe9b4b60139c",
   "metadata": {},
   "outputs": [
    {
     "name": "stdout",
     "output_type": "stream",
     "text": [
      "<class 'int'>\n"
     ]
    }
   ],
   "source": [
    "print(type(int(a)))"
   ]
  },
  {
   "cell_type": "code",
   "execution_count": 146,
   "id": "ae7664f7-bc69-4916-a85d-c08a404ded3b",
   "metadata": {},
   "outputs": [
    {
     "name": "stdin",
     "output_type": "stream",
     "text": [
      " 123\n"
     ]
    },
    {
     "name": "stdout",
     "output_type": "stream",
     "text": [
      "<class 'int'>\n"
     ]
    }
   ],
   "source": [
    "age = int(input())\n",
    "print(type(age))"
   ]
  },
  {
   "cell_type": "code",
   "execution_count": 147,
   "id": "177d5c21-ec56-4552-a35d-c8166c1f662c",
   "metadata": {},
   "outputs": [],
   "source": [
    "a = '3.3'"
   ]
  },
  {
   "cell_type": "code",
   "execution_count": 150,
   "id": "a7f114da-0bff-404a-b0bc-5f7ce8067e8e",
   "metadata": {},
   "outputs": [
    {
     "ename": "ValueError",
     "evalue": "invalid literal for int() with base 10: '3.3'",
     "output_type": "error",
     "traceback": [
      "\u001b[1;31m---------------------------------------------------------------------------\u001b[0m",
      "\u001b[1;31mValueError\u001b[0m                                Traceback (most recent call last)",
      "Cell \u001b[1;32mIn[150], line 1\u001b[0m\n\u001b[1;32m----> 1\u001b[0m \u001b[38;5;28mtype\u001b[39m(\u001b[38;5;28;43mint\u001b[39;49m\u001b[43m(\u001b[49m\u001b[43ma\u001b[49m\u001b[43m)\u001b[49m)\n",
      "\u001b[1;31mValueError\u001b[0m: invalid literal for int() with base 10: '3.3'"
     ]
    }
   ],
   "source": [
    "type(int(a))"
   ]
  },
  {
   "cell_type": "code",
   "execution_count": 151,
   "id": "434689d0-2dd4-4da7-8709-651c2f170574",
   "metadata": {},
   "outputs": [
    {
     "data": {
      "text/plain": [
       "float"
      ]
     },
     "execution_count": 151,
     "metadata": {},
     "output_type": "execute_result"
    }
   ],
   "source": [
    "type(float(a))"
   ]
  },
  {
   "cell_type": "code",
   "execution_count": 152,
   "id": "b313a75d-965f-403f-952d-00052f601a95",
   "metadata": {},
   "outputs": [],
   "source": [
    "a = 1\n",
    "b = 0\n",
    "c = 100"
   ]
  },
  {
   "cell_type": "code",
   "execution_count": 154,
   "id": "503f4745-bc42-4a02-8cd8-b738fdac0c72",
   "metadata": {},
   "outputs": [
    {
     "name": "stdout",
     "output_type": "stream",
     "text": [
      "True\n",
      "False\n",
      "True\n"
     ]
    }
   ],
   "source": [
    "print(bool(a))\n",
    "print(bool(b))\n",
    "print(bool(c))"
   ]
  },
  {
   "cell_type": "code",
   "execution_count": 155,
   "id": "ae8f75e5-49fd-4c01-954a-e6f0c500b5a8",
   "metadata": {},
   "outputs": [
    {
     "name": "stdout",
     "output_type": "stream",
     "text": [
      "False\n",
      "True\n"
     ]
    }
   ],
   "source": [
    "print(bool(''))\n",
    "print(bool('a'))"
   ]
  },
  {
   "cell_type": "code",
   "execution_count": 156,
   "id": "447539aa-e276-48d1-bd56-1b0109b4de0c",
   "metadata": {},
   "outputs": [
    {
     "name": "stdout",
     "output_type": "stream",
     "text": [
      "False\n",
      "True\n"
     ]
    }
   ],
   "source": [
    "print(bool([]))\n",
    "print(bool([1, 2, 3]))"
   ]
  },
  {
   "cell_type": "markdown",
   "id": "bca51e76-51ad-44f8-9c9d-6ab29ef6b7ac",
   "metadata": {},
   "source": [
    "## 4. 시퀀스(sequence) 자료형\n",
    "시퀀스는 데이터의 순서대로 나열된 자료구조\n",
    "\n",
    "1. 리스트(list)\n",
    "2. 튜플(tuple)\n",
    "3. 레인지(range)\n",
    "4. 문자열(string)"
   ]
  },
  {
   "cell_type": "markdown",
   "id": "333c108d-d5ca-4d70-b348-be4fc25453ea",
   "metadata": {},
   "source": [
    "### 4.1 list(배열)\n",
    "- 선언 : 변수이름 = [value1, value2, value3]\n",
    "- 접근 : 변수이름[index] #index = 0~"
   ]
  },
  {
   "cell_type": "code",
   "execution_count": 158,
   "id": "89033a1a-196a-4b87-a7c8-0a314583e115",
   "metadata": {},
   "outputs": [
    {
     "name": "stdout",
     "output_type": "stream",
     "text": [
      "[]\n",
      "<class 'list'>\n"
     ]
    }
   ],
   "source": [
    "l = []\n",
    "print(l)\n",
    "print(type(l))"
   ]
  },
  {
   "cell_type": "code",
   "execution_count": 168,
   "id": "1d0792c4-b401-4a48-8617-d2545fbdf4bc",
   "metadata": {},
   "outputs": [
    {
     "name": "stdout",
     "output_type": "stream",
     "text": [
      "['서울', '대전', '부산']\n",
      "<class 'list'>\n",
      "부산\n",
      "부산\n",
      "['서울', '대전', '부산']\n",
      "['서울', '대전', '제주']\n"
     ]
    }
   ],
   "source": [
    "location = ['서울', '대전', '부산']\n",
    "print(location)\n",
    "print(type(location))\n",
    "\n",
    "print(location[2])\n",
    "print(location[-1]) #뒤에서부터 접근\n",
    "print(location[0:3])\n",
    "\n",
    "location[2] = '제주' #list는 새로운 값을 할당가능\n",
    "print(location)"
   ]
  },
  {
   "cell_type": "markdown",
   "id": "8fde69aa-5563-483a-8b17-e66d9a03f565",
   "metadata": {},
   "source": [
    "### 4.2 Tuple(튜플)\n",
    "- 선언 : 변수이름 = (value1, value2, value3)\n",
    "- 접근 : 변수이름[index]\n",
    "- list와 유사하지만 수정불가능(immutable)하다."
   ]
  },
  {
   "cell_type": "code",
   "execution_count": 171,
   "id": "365654aa-ce88-4982-9e8f-e333b5247404",
   "metadata": {},
   "outputs": [
    {
     "name": "stdout",
     "output_type": "stream",
     "text": [
      "(1, 2, 3)\n",
      "<class 'tuple'>\n",
      "3\n"
     ]
    }
   ],
   "source": [
    "t = (1, 2, 3)\n",
    "print(t)\n",
    "print(type(t))\n",
    "print(t[2])"
   ]
  },
  {
   "cell_type": "code",
   "execution_count": 179,
   "id": "c64b5f8b-4b05-4e9e-bb50-549629d3a2cd",
   "metadata": {},
   "outputs": [
    {
     "ename": "TypeError",
     "evalue": "'tuple' object does not support item assignment",
     "output_type": "error",
     "traceback": [
      "\u001b[1;31m---------------------------------------------------------------------------\u001b[0m",
      "\u001b[1;31mTypeError\u001b[0m                                 Traceback (most recent call last)",
      "Cell \u001b[1;32mIn[179], line 1\u001b[0m\n\u001b[1;32m----> 1\u001b[0m \u001b[43mt\u001b[49m\u001b[43m[\u001b[49m\u001b[38;5;241;43m2\u001b[39;49m\u001b[43m]\u001b[49m \u001b[38;5;241m=\u001b[39m \u001b[38;5;241m100\u001b[39m \u001b[38;5;66;03m# 데이터 수정 불가능\u001b[39;00m\n",
      "\u001b[1;31mTypeError\u001b[0m: 'tuple' object does not support item assignment"
     ]
    }
   ],
   "source": [
    "t[2] = 100 # 데이터 수정 불가능"
   ]
  },
  {
   "cell_type": "code",
   "execution_count": 180,
   "id": "950968e1-6f97-4714-9879-19d489ea86e1",
   "metadata": {},
   "outputs": [
    {
     "name": "stdout",
     "output_type": "stream",
     "text": [
      "<class 'tuple'>\n",
      "2\n"
     ]
    }
   ],
   "source": [
    "result = divmod(9, 4)\n",
    "print(type(result))\n",
    "print(result[0])"
   ]
  },
  {
   "cell_type": "code",
   "execution_count": 181,
   "id": "1ec7b2fc-e134-4802-964c-254f1e9a70c5",
   "metadata": {},
   "outputs": [
    {
     "name": "stdout",
     "output_type": "stream",
     "text": [
      "1 2\n",
      "2 1\n"
     ]
    }
   ],
   "source": [
    "x, y = (1, 2) # 같은 line에서 여러 변수의 값을 할당할때\n",
    "print(x, y)\n",
    "\n",
    "x, y = y, x # 변수를 swap할때\n",
    "print(x, y)"
   ]
  },
  {
   "cell_type": "markdown",
   "id": "1dc1ceec-eb3d-45c5-a7fe-1c04523de01b",
   "metadata": {},
   "source": [
    "### 4.3 range\n",
    "- range(n) : 0부터 n-1까지 범위\n",
    "- range(n, m) : n부터 m-1까지 범위\n",
    "- range(n, m, s) : n부터 m-1까지 범위, +s만큼 증가하는 범위"
   ]
  },
  {
   "cell_type": "code",
   "execution_count": 184,
   "id": "bca3c3e0-a8a5-4cbc-8aa8-de64727872a0",
   "metadata": {},
   "outputs": [
    {
     "name": "stdout",
     "output_type": "stream",
     "text": [
      "range(0, 5)\n",
      "<class 'range'>\n"
     ]
    }
   ],
   "source": [
    "r = range(5)\n",
    "print(r) # 0이상 5미만\n",
    "print(type(r))"
   ]
  },
  {
   "cell_type": "code",
   "execution_count": 185,
   "id": "1ad4aa4f-e3cb-4569-8895-688fe1e521e1",
   "metadata": {},
   "outputs": [
    {
     "name": "stdout",
     "output_type": "stream",
     "text": [
      "range(5, 15)\n"
     ]
    }
   ],
   "source": [
    "r = range(5, 15)\n",
    "print(r)"
   ]
  },
  {
   "cell_type": "code",
   "execution_count": 186,
   "id": "8ab54161-c48c-4e6a-a546-c547d1ea0324",
   "metadata": {},
   "outputs": [
    {
     "name": "stdout",
     "output_type": "stream",
     "text": [
      "range(5, 15, 2)\n"
     ]
    }
   ],
   "source": [
    "r = range(5, 15, 2)\n",
    "print(r)"
   ]
  },
  {
   "cell_type": "code",
   "execution_count": 189,
   "id": "d3a758b7-05e4-4e53-84cf-f1bbf15913e2",
   "metadata": {},
   "outputs": [
    {
     "data": {
      "text/plain": [
       "[5, 7, 9, 11, 13]"
      ]
     },
     "execution_count": 189,
     "metadata": {},
     "output_type": "execute_result"
    }
   ],
   "source": [
    "list(r)"
   ]
  },
  {
   "cell_type": "markdown",
   "id": "df8db0ac-8ffa-4d37-830b-a2d51f2f3030",
   "metadata": {},
   "source": [
    "### 4.4 string\n",
    "기본 데이터 구조 참고"
   ]
  },
  {
   "cell_type": "markdown",
   "id": "bd362d8e-daf6-4825-becb-5205efef967b",
   "metadata": {},
   "source": [
    "### 4.5 시퀀스에서 사용 가능한 연산/함수"
   ]
  },
  {
   "cell_type": "code",
   "execution_count": 190,
   "id": "cd38ef1c-ed75-4731-8db9-39a33049292c",
   "metadata": {},
   "outputs": [],
   "source": [
    "my_list = [1, 2, 3, 4, 5]\n",
    "my_tuple = (11, 22, 33, 44, 55)\n",
    "my_range = range(1, 10, 2)\n",
    "my_string = '일이삼사오'"
   ]
  },
  {
   "cell_type": "code",
   "execution_count": 193,
   "id": "6482bfa0-0918-470a-9c77-243bd63d159b",
   "metadata": {},
   "outputs": [
    {
     "name": "stdout",
     "output_type": "stream",
     "text": [
      "2\n",
      "22\n",
      "3\n",
      "이\n"
     ]
    }
   ],
   "source": [
    "# indexing\n",
    "print(my_list[1])\n",
    "print(my_tuple[1])\n",
    "print(my_range[1])\n",
    "print(my_string[1])"
   ]
  },
  {
   "cell_type": "code",
   "execution_count": 195,
   "id": "922c7f2e-58b5-4277-8299-48304b91e5fc",
   "metadata": {},
   "outputs": [
    {
     "name": "stdout",
     "output_type": "stream",
     "text": [
      "[2, 3]\n",
      "(22, 33)\n",
      "range(3, 7, 2)\n",
      "이삼\n"
     ]
    }
   ],
   "source": [
    "# slicing : 범위에서 원하는 부분만 잘라서 사용가능\n",
    "print(my_list[1:3])\n",
    "print(my_tuple[1:3])\n",
    "print(my_range[1:3])\n",
    "print(my_string[1:3])"
   ]
  },
  {
   "cell_type": "code",
   "execution_count": 197,
   "id": "80457339-f5d3-430c-90d2-b9ce8289a30f",
   "metadata": {},
   "outputs": [
    {
     "name": "stdout",
     "output_type": "stream",
     "text": [
      "[2, 4]\n",
      "range(5, 11, 4)\n"
     ]
    }
   ],
   "source": [
    "print(my_list[1:4:2])\n",
    "print(my_range[2:7:2])"
   ]
  },
  {
   "cell_type": "code",
   "execution_count": 200,
   "id": "68976167-49a5-4c3f-a723-aa848ee6ccc4",
   "metadata": {},
   "outputs": [
    {
     "name": "stdout",
     "output_type": "stream",
     "text": [
      "[1, 2, 3]\n",
      "[4, 5]\n"
     ]
    }
   ],
   "source": [
    "print(my_list[:3])\n",
    "print(my_list[3:])"
   ]
  },
  {
   "cell_type": "code",
   "execution_count": 205,
   "id": "b8abb2fc-3c88-4a5a-98ca-b4b6d4258158",
   "metadata": {},
   "outputs": [
    {
     "name": "stdout",
     "output_type": "stream",
     "text": [
      "False\n",
      "True\n",
      "True\n",
      "True\n"
     ]
    }
   ],
   "source": [
    "# in\n",
    "print(11 in my_list)\n",
    "print(11 in my_tuple)\n",
    "print(1 in my_range)\n",
    "print('일' in my_string)"
   ]
  },
  {
   "cell_type": "code",
   "execution_count": 210,
   "id": "876ee3c2-f72f-4c49-a4dc-2da9927910f4",
   "metadata": {},
   "outputs": [
    {
     "name": "stdout",
     "output_type": "stream",
     "text": [
      "True\n",
      "True\n",
      "False\n",
      "True\n"
     ]
    }
   ],
   "source": [
    "# not in\n",
    "print(11 not in my_list)\n",
    "print(100 not in my_tuple)\n",
    "print(1 not in my_range)\n",
    "print('구' not in my_string)"
   ]
  },
  {
   "cell_type": "code",
   "execution_count": 212,
   "id": "582f57db-42ab-468a-9df6-a8f187349ec9",
   "metadata": {},
   "outputs": [
    {
     "name": "stdout",
     "output_type": "stream",
     "text": [
      "[1, 2, 3, 4, 5, 1, 2, 3, 4, 5]\n",
      "(11, 22, 33, 44, 55, 1, 2, 3)\n"
     ]
    }
   ],
   "source": [
    "#concatenation\n",
    "print(my_list + [1, 2, 3, 4, 5])\n",
    "print(my_tuple + (1, 2, 3))"
   ]
  },
  {
   "cell_type": "code",
   "execution_count": 218,
   "id": "98ebae1d-eea7-438b-9c47-a0e2fbaf433a",
   "metadata": {},
   "outputs": [
    {
     "name": "stdout",
     "output_type": "stream",
     "text": [
      "일이삼사오일이삼사오일이삼사오\n",
      "[1, 2, 3, 4, 5, 1, 2, 3, 4, 5, 1, 2, 3, 4, 5]\n",
      "[0, 0, 0, 0, 0, 0, 0, 0, 0, 0]\n",
      "[[0, 0, 0, 0, 0, 0, 0, 0, 0, 0], [0, 0, 0, 0, 0, 0, 0, 0, 0, 0], [0, 0, 0, 0, 0, 0, 0, 0, 0, 0], [0, 0, 0, 0, 0, 0, 0, 0, 0, 0], [0, 0, 0, 0, 0, 0, 0, 0, 0, 0], [0, 0, 0, 0, 0, 0, 0, 0, 0, 0], [0, 0, 0, 0, 0, 0, 0, 0, 0, 0], [0, 0, 0, 0, 0, 0, 0, 0, 0, 0], [0, 0, 0, 0, 0, 0, 0, 0, 0, 0], [0, 0, 0, 0, 0, 0, 0, 0, 0, 0]]\n"
     ]
    }
   ],
   "source": [
    "# * 곱셈연산 : 시퀀스 반복\n",
    "print(my_string * 3)\n",
    "print(my_list * 3)\n",
    "print([0] * 10) # 리스트 초기화할 때\n",
    "print([[0] * 10] * 10)"
   ]
  },
  {
   "cell_type": "code",
   "execution_count": 219,
   "id": "398838af-0e36-4ad9-a65b-f4b62f68bdfb",
   "metadata": {},
   "outputs": [
    {
     "data": {
      "text/plain": [
       "5"
      ]
     },
     "execution_count": 219,
     "metadata": {},
     "output_type": "execute_result"
    }
   ],
   "source": [
    "len(my_list)"
   ]
  },
  {
   "cell_type": "code",
   "execution_count": 220,
   "id": "1fa807e1-c4e8-43f2-a4f1-52488d862d46",
   "metadata": {},
   "outputs": [
    {
     "data": {
      "text/plain": [
       "11"
      ]
     },
     "execution_count": 220,
     "metadata": {},
     "output_type": "execute_result"
    }
   ],
   "source": [
    "min(my_tuple)"
   ]
  },
  {
   "cell_type": "code",
   "execution_count": 221,
   "id": "5f72cc7b-c48d-486d-a7bd-1118ee44d805",
   "metadata": {},
   "outputs": [
    {
     "data": {
      "text/plain": [
       "9"
      ]
     },
     "execution_count": 221,
     "metadata": {},
     "output_type": "execute_result"
    }
   ],
   "source": [
    "max(my_range)"
   ]
  },
  {
   "cell_type": "code",
   "execution_count": 225,
   "id": "0c1dd265-6a8d-4a24-bafb-62a0cec09d47",
   "metadata": {},
   "outputs": [
    {
     "data": {
      "text/plain": [
       "1"
      ]
     },
     "execution_count": 225,
     "metadata": {},
     "output_type": "execute_result"
    }
   ],
   "source": [
    "my_list.count(1) #원하는 값이 몇개 들었는지"
   ]
  },
  {
   "cell_type": "markdown",
   "id": "f9477a68-9e65-41c1-81e2-951445989635",
   "metadata": {},
   "source": [
    "## 5. 시퀀스데이터가 아닌 자료구조"
   ]
  },
  {
   "cell_type": "markdown",
   "id": "d6929330-2a6e-4720-87c6-974fb35c4ac2",
   "metadata": {},
   "source": [
    "### 5.1 set\n",
    "수학에서 사용하는 집합과 동일하게 처리(중복된 값이 없음)\n",
    "- 선언 : 변수이름 = {value1, value2, value3}"
   ]
  },
  {
   "cell_type": "code",
   "execution_count": 226,
   "id": "9b1e7541-ccf0-49d2-8309-162699b28cd4",
   "metadata": {},
   "outputs": [],
   "source": [
    "my_set_a = {1, 2, 3, 4, 5}\n",
    "my_set_b = {1, 3, 5, 7, 9}"
   ]
  },
  {
   "cell_type": "code",
   "execution_count": 231,
   "id": "415db4e8-5c4a-4c89-9495-0600bd3996fd",
   "metadata": {},
   "outputs": [
    {
     "name": "stdout",
     "output_type": "stream",
     "text": [
      "{2, 4}\n",
      "{1, 2, 3, 4, 5, 7, 9}\n",
      "{1, 3, 5}\n"
     ]
    }
   ],
   "source": [
    "print(my_set_a - my_set_b) # 차집합\n",
    "print(my_set_a | my_set_b) # 합집합 or\n",
    "print(my_set_a & my_set_b) # 교집합 and"
   ]
  },
  {
   "cell_type": "code",
   "execution_count": 235,
   "id": "d4135e35-6d63-46ab-bb8a-0b7407e6fab0",
   "metadata": {},
   "outputs": [
    {
     "name": "stdout",
     "output_type": "stream",
     "text": [
      "{1, 2, 3, 4, 5, 6, 7, 8}\n"
     ]
    }
   ],
   "source": [
    "my_list = [1, 2, 3, 1, 4, 1, 2, 3, 5, 6, 7, 8, 2, 2]\n",
    "print(set(my_list))"
   ]
  },
  {
   "cell_type": "markdown",
   "id": "f14670bc-489e-4ffe-9460-7cd0b99cc91f",
   "metadata": {},
   "source": [
    "### 5.2 dictionary\n",
    "- 선언 : 변수이름 = {key1: value1, key2: value2, key3: value3}\n",
    "- 접근 : 변수이름[key]\n",
    "- dictionary는 key와 value가 쌍으로 이루어져있다.\n",
    "- key에는 immutable한 모든 값을 사용가능. (불변값 : string, integer, ...)\n",
    "- value에는 모든 데이터 가능. (list, dict도 가능)"
   ]
  },
  {
   "cell_type": "code",
   "execution_count": 237,
   "id": "19126f88-899d-4e64-86b9-d65271312397",
   "metadata": {},
   "outputs": [
    {
     "data": {
      "text/plain": [
       "'02'"
      ]
     },
     "execution_count": 237,
     "metadata": {},
     "output_type": "execute_result"
    }
   ],
   "source": [
    "my_dict = {'서울': '02', '경기': '031'}\n",
    "my_dict['서울']"
   ]
  },
  {
   "cell_type": "code",
   "execution_count": 240,
   "id": "70b46a25-be79-4eb6-9c59-250e0cf214f4",
   "metadata": {},
   "outputs": [
    {
     "name": "stdout",
     "output_type": "stream",
     "text": [
      "10\n",
      "4\n",
      "11\n"
     ]
    }
   ],
   "source": [
    "dict_a = {\n",
    "    'name': 'dohyeon',\n",
    "    'age': 10,\n",
    "    'location': 'seoul', # trailing comma , 넣기\n",
    "    'numbers': [1, 2, 3, 4, 5],\n",
    "    'friends': {\n",
    "        'a': 10,\n",
    "        'b': 11,\n",
    "        },\n",
    "}\n",
    "print(dict_a['age'])\n",
    "print(dict_a['numbers'][3])\n",
    "print(dict_a['friends']['b'])"
   ]
  },
  {
   "cell_type": "code",
   "execution_count": 242,
   "id": "02b4bb88-a9a6-4f3d-8f2e-657412f64340",
   "metadata": {},
   "outputs": [
    {
     "data": {
      "text/plain": [
       "dict_keys(['name', 'age', 'location', 'numbers', 'friends'])"
      ]
     },
     "execution_count": 242,
     "metadata": {},
     "output_type": "execute_result"
    }
   ],
   "source": [
    "dict_a.keys()"
   ]
  },
  {
   "cell_type": "code",
   "execution_count": 243,
   "id": "a5abc6bf-2f29-4edb-a34e-e946708b3c72",
   "metadata": {},
   "outputs": [
    {
     "data": {
      "text/plain": [
       "dict_values(['dohyeon', 10, 'seoul', [1, 2, 3, 4, 5], {'a': 10, 'b': 11}])"
      ]
     },
     "execution_count": 243,
     "metadata": {},
     "output_type": "execute_result"
    }
   ],
   "source": [
    "dict_a.values()"
   ]
  },
  {
   "cell_type": "markdown",
   "id": "2e619b72-567e-4b9d-b304-ad55402c7c09",
   "metadata": {},
   "source": [
    "## 데이터 타입\n",
    "\n",
    "1. Number\n",
    "2. Boolean\n",
    "3. String\n",
    "\n",
    "## 자료구조\n",
    "\n",
    "- 시퀀스 자료형\n",
    "    1. [list] : mutable\n",
    "    2. (Tuple) : immutable\n",
    "    3. range() : immutable\n",
    "    4. 'String' : immutable\n",
    "\n",
    "- 시퀀스가 아닌 자료형\n",
    "    1. {Set} : mutable\n",
    "    2. {Dict: ionary} : mutable"
   ]
  },
  {
   "cell_type": "code",
   "execution_count": null,
   "id": "f2557e7c-e00a-4dbd-adee-bf7ff93586d6",
   "metadata": {},
   "outputs": [],
   "source": []
  },
  {
   "cell_type": "code",
   "execution_count": null,
   "id": "3bb03777-b8e9-4190-a9d2-f58de1230e59",
   "metadata": {},
   "outputs": [],
   "source": []
  },
  {
   "cell_type": "code",
   "execution_count": null,
   "id": "c72e757c-c231-4df8-8045-353d5a110a62",
   "metadata": {},
   "outputs": [],
   "source": []
  },
  {
   "cell_type": "code",
   "execution_count": null,
   "id": "d47c6bf3-28d6-450b-aa51-c4d06ff1ed1a",
   "metadata": {},
   "outputs": [],
   "source": []
  },
  {
   "cell_type": "code",
   "execution_count": null,
   "id": "70420e08-68c7-4b7e-b977-4d7e3e208692",
   "metadata": {},
   "outputs": [],
   "source": []
  }
 ],
 "metadata": {
  "kernelspec": {
   "display_name": "Python 3 (ipykernel)",
   "language": "python",
   "name": "python3"
  },
  "language_info": {
   "codemirror_mode": {
    "name": "ipython",
    "version": 3
   },
   "file_extension": ".py",
   "mimetype": "text/x-python",
   "name": "python",
   "nbconvert_exporter": "python",
   "pygments_lexer": "ipython3",
   "version": "3.11.5"
  }
 },
 "nbformat": 4,
 "nbformat_minor": 5
}

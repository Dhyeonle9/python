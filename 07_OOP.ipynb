{
 "cells": [
  {
   "cell_type": "markdown",
   "id": "3748b641-9c9d-408d-8b4b-1e220bb0c7a5",
   "metadata": {},
   "source": [
    "# 객체지향 프로그래밍"
   ]
  },
  {
   "cell_type": "markdown",
   "id": "51f45fe7-6621-4816-95f1-92fae4703366",
   "metadata": {},
   "source": [
    "- 클래스(class) : 같은 종류의 집단에 속하는 속성(attribute)과 행위(method)를 **정의**한 것\n",
    "- 인스턴스(instance) : 클래스를 실제로 메모리상에 할당한 것\n",
    "- 속성(attribute) : 클래스/인스턴스가 가지고 있는 **데이터**/값\n",
    "- 행위(method) : 클래스/인스턴스가 가지고 있는 **함수**/기능"
   ]
  },
  {
   "cell_type": "code",
   "execution_count": 1,
   "id": "ba5677a2-7663-41c3-86e6-425d0de430a7",
   "metadata": {},
   "outputs": [],
   "source": [
    "number = 1 + 1j"
   ]
  },
  {
   "cell_type": "code",
   "execution_count": 2,
   "id": "8ea8311a-1831-4133-8c64-f1865f357e05",
   "metadata": {},
   "outputs": [
    {
     "data": {
      "text/plain": [
       "complex"
      ]
     },
     "execution_count": 2,
     "metadata": {},
     "output_type": "execute_result"
    }
   ],
   "source": [
    "type(number)"
   ]
  },
  {
   "cell_type": "code",
   "execution_count": 6,
   "id": "4d5a29a4-bcbf-49dd-9f9e-432ffc1dd71f",
   "metadata": {},
   "outputs": [
    {
     "name": "stdout",
     "output_type": "stream",
     "text": [
      "1.0\n",
      "1.0\n"
     ]
    }
   ],
   "source": [
    "# attribute(속성): .속성\n",
    "print(number.real)\n",
    "print(number.imag)"
   ]
  },
  {
   "cell_type": "code",
   "execution_count": 9,
   "id": "9c8918d8-ded4-4179-b538-a932f0554b03",
   "metadata": {},
   "outputs": [
    {
     "name": "stdout",
     "output_type": "stream",
     "text": [
      "<class 'list'>\n",
      "[4, 3, 2, 1]\n"
     ]
    }
   ],
   "source": [
    "# method(행위): .함수()\n",
    "my_list = [1, 2, 3, 4]\n",
    "print(type(my_list))\n",
    "my_list.reverse()\n",
    "print(my_list)"
   ]
  },
  {
   "cell_type": "code",
   "execution_count": 10,
   "id": "e9491e3b-f7b2-4859-9e61-e026704a4919",
   "metadata": {},
   "outputs": [
    {
     "name": "stdout",
     "output_type": "stream",
     "text": [
      "핸드폰이 켜졌습니다.\n"
     ]
    }
   ],
   "source": [
    "power = False\n",
    "number = '010-1234-1234'\n",
    "book = {\n",
    "    '홍길동': '010-1111-1111',\n",
    "    '이순신': '010-2222-2222',\n",
    "}\n",
    "\n",
    "def on():\n",
    "    global power\n",
    "    if power == False:\n",
    "        power = True\n",
    "        print('핸드폰이 켜졌습니다.')\n",
    "on()"
   ]
  },
  {
   "cell_type": "markdown",
   "id": "70cdbb90-02b9-430d-9f47-71f5aa69e886",
   "metadata": {},
   "source": [
    "## Class\n",
    "\n",
    "-클래스 선언\n",
    "``` python\n",
    "class ClassName:\n",
    "    attribute = value\n",
    "\n",
    "    def method_name(self):\n",
    "        code\n",
    "```\n",
    "\n",
    "- 인스턴스화\n",
    "  \n",
    "  ClassName()"
   ]
  },
  {
   "cell_type": "code",
   "execution_count": 12,
   "id": "3029a9e9-37fa-4379-8a09-3e4d20ef8bbb",
   "metadata": {},
   "outputs": [],
   "source": [
    "# 선언\n",
    "class MyClass:\n",
    "    name = 'kim'\n",
    "\n",
    "    def hello(self):\n",
    "        return 'hello'"
   ]
  },
  {
   "cell_type": "code",
   "execution_count": 17,
   "id": "e2c33ae0-58d8-4e33-98e5-9e43974a1fe7",
   "metadata": {},
   "outputs": [
    {
     "name": "stdout",
     "output_type": "stream",
     "text": [
      "<class '__main__.MyClass'>\n",
      "kim\n",
      "hello\n",
      "park\n",
      "hello\n"
     ]
    }
   ],
   "source": [
    "# 인스턴스화\n",
    "a = MyClass() # 인스턴스 a(객체)에 클래스 할당\n",
    "print(type(a))\n",
    "\n",
    "print(a.name) # MyClass라는 클래스의 인스턴스 a의  attribute에 접근\n",
    "print(a.hello()) # 인스턴스 a의 method에 접근\n",
    "\n",
    "b = MyClass() # 인스턴스 b(객체)에 클래스 할당\n",
    "b.name = 'park' \n",
    "print(b.name) \n",
    "print(b.hello()) \n",
    "\n",
    "# 객체 안에 데이터"
   ]
  },
  {
   "cell_type": "code",
   "execution_count": 27,
   "id": "e4b0edab-1e9c-42be-9a0a-d65e1be07f6d",
   "metadata": {},
   "outputs": [],
   "source": [
    "class Phone:\n",
    "    power = False\n",
    "    number = '010-0000-0000'\n",
    "    book = {}\n",
    "    model = ''\n",
    "\n",
    "    def on(self): # self: 인스턴스 자기자신\n",
    "        if self.power == False:\n",
    "            self.power = True\n",
    "    \n",
    "    def off(self):\n",
    "        if self.power == True:\n",
    "            self.power = False\n",
    "\n",
    "    def call(self, target):\n",
    "        if self.power == True:\n",
    "            print(f'제 번호는 {self.number}입니다.')\n",
    "            print(f'{target}로 전화 거는 중')\n",
    "        else:\n",
    "            print('핸드폰을 켜주세요')\n",
    "\n",
    "        "
   ]
  },
  {
   "cell_type": "code",
   "execution_count": 28,
   "id": "32e1d99f-bfc3-45ca-b032-1a5f9c95b0e4",
   "metadata": {},
   "outputs": [],
   "source": [
    "my_phone = Phone()\n",
    "your_phone = Phone()"
   ]
  },
  {
   "cell_type": "code",
   "execution_count": 29,
   "id": "e0837e94-cfbc-4a4b-b2f4-f601668f5129",
   "metadata": {},
   "outputs": [
    {
     "name": "stdout",
     "output_type": "stream",
     "text": [
      "010-1234-1234\n"
     ]
    }
   ],
   "source": [
    "my_phone.number = '010-1234-1234'\n",
    "print(my_phone.number)"
   ]
  },
  {
   "cell_type": "code",
   "execution_count": 30,
   "id": "212dcb63-46ef-47c4-899a-2096388a3fb7",
   "metadata": {},
   "outputs": [
    {
     "name": "stdout",
     "output_type": "stream",
     "text": [
      "010-0000-0000\n"
     ]
    }
   ],
   "source": [
    "print(your_phone.number)"
   ]
  },
  {
   "cell_type": "code",
   "execution_count": 31,
   "id": "59a45991-2ae0-4315-a937-766dad08529f",
   "metadata": {},
   "outputs": [
    {
     "name": "stdout",
     "output_type": "stream",
     "text": [
      "True\n",
      "False\n",
      "False\n"
     ]
    }
   ],
   "source": [
    "my_phone.on() # => my_phone.on(my_phone)\n",
    "print(my_phone.power)\n",
    "print(your_phone.power)\n",
    "\n",
    "my_phone.off()\n",
    "print(my_phone.power)"
   ]
  },
  {
   "cell_type": "code",
   "execution_count": 35,
   "id": "5f127bbd-8310-4c50-b1b9-9e40c905fa3f",
   "metadata": {},
   "outputs": [
    {
     "name": "stdout",
     "output_type": "stream",
     "text": [
      "제 번호는 010-1234-1234입니다.\n",
      "112로 전화 거는 중\n",
      "제 번호는 010-0000-0000입니다.\n",
      "119로 전화 거는 중\n"
     ]
    }
   ],
   "source": [
    "my_phone.on()\n",
    "my_phone.call('112')\n",
    "\n",
    "your_phone.on()\n",
    "your_phone.call('119')"
   ]
  },
  {
   "cell_type": "code",
   "execution_count": 89,
   "id": "0d9ff6c5-eb0c-476b-ae58-5e09a7b44962",
   "metadata": {},
   "outputs": [],
   "source": [
    "# # 연습\n",
    "# class MyList:\n",
    "#     data = []\n",
    "\n",
    "#     def append(self, add):\n",
    "#         self.data += [add]\n",
    "        \n",
    "#     def pop(self):\n",
    "#         p_data = self.data[-1]\n",
    "#         del self.data[-1]\n",
    "#         return p_data\n",
    "\n",
    "# 풀이\n",
    "class MyList:\n",
    "    data = []\n",
    "\n",
    "    def append(self, item):\n",
    "        # self.data.append(item) 리스트 주소를 참조해서 값을 추가 -> 부모 객체에 데이터 추가됨, 동작 문제생김\n",
    "        self.data = self.data + [item]\n",
    "        \n",
    "    def pop(self):\n",
    "        p_data = self.data[-1]\n",
    "        self.data = self.data[:-1]\n",
    "        return p_data\n",
    "        "
   ]
  },
  {
   "cell_type": "code",
   "execution_count": 90,
   "id": "e6073900-f721-4071-9285-49aa782ee3d5",
   "metadata": {},
   "outputs": [
    {
     "name": "stdout",
     "output_type": "stream",
     "text": [
      "[]\n",
      "[5]\n",
      "[5, 10]\n",
      "10\n",
      "[5]\n"
     ]
    }
   ],
   "source": [
    "list_a = MyList()\n",
    "print(list_a.data) # => []\n",
    "list_a.append(5) # => [5]\n",
    "print(list_a.data)\n",
    "list_a.append(10) # => [5, 10]\n",
    "print(list_a.data)\n",
    "\n",
    "print(list_a.pop()) # => [5]\n",
    "print(list_a.data)"
   ]
  },
  {
   "cell_type": "code",
   "execution_count": 91,
   "id": "5ed15faa-4f45-4789-b147-c4f5d05db3ee",
   "metadata": {},
   "outputs": [
    {
     "name": "stdout",
     "output_type": "stream",
     "text": [
      "[]\n",
      "['일', '이', '삼']\n"
     ]
    }
   ],
   "source": [
    "list_b = MyList()\n",
    "print(list_b.data)\n",
    "list_b.append('일')\n",
    "list_b.append('이')\n",
    "list_b.append('삼')\n",
    "print(list_b.data)"
   ]
  },
  {
   "cell_type": "markdown",
   "id": "52c9cd66-18a9-424e-86e5-7b4bd54ea34a",
   "metadata": {},
   "source": [
    "## 생성자, 소멸자\n",
    "\n",
    "```python\n",
    "class MyClass:\n",
    "\n",
    "    def __init__(self): # 인스턴스화 과정에서 자동으로 실행\n",
    "        pass\n",
    "    def __del__(self):\n",
    "        pass"
   ]
  },
  {
   "cell_type": "code",
   "execution_count": 115,
   "id": "0c005d17-914d-4d78-bc5e-4b64c128c36a",
   "metadata": {},
   "outputs": [],
   "source": [
    "class Person:\n",
    "    name = 'noname'\n",
    "\n",
    "    def __init__(self, name='익명'):\n",
    "        self.name = name\n",
    "        print('생성됨')\n",
    "        \n",
    "    def __del__(self):\n",
    "        print('소멸됨')"
   ]
  },
  {
   "cell_type": "code",
   "execution_count": 136,
   "id": "4f8a5688-4e6b-45c5-a464-966a00ef8b16",
   "metadata": {},
   "outputs": [
    {
     "name": "stdout",
     "output_type": "stream",
     "text": [
      "생성됨\n",
      "소멸됨\n",
      "<__main__.Person object at 0x000001C1B88EE950>\n",
      "kim\n",
      "생성됨\n",
      "소멸됨\n",
      "park\n",
      "생성됨\n",
      "소멸됨\n",
      "익명\n",
      "noname\n",
      "010-1234-1234\n"
     ]
    }
   ],
   "source": [
    "p1 = Person('kim') # => Person.__init__('Kim')\n",
    "print(p1)\n",
    "print(p1.name)\n",
    "\n",
    "p2 = Person('park')\n",
    "print(p2.name)\n",
    "\n",
    "p3 = Person()\n",
    "print(p3.name)\n",
    "\n",
    "print(Person.name)\n",
    "\n",
    "p1.phone = '010-1234-1234'\n",
    "print(p1.phone)"
   ]
  },
  {
   "cell_type": "code",
   "execution_count": 139,
   "id": "03c962f7-401d-423a-b231-aad6b4955381",
   "metadata": {},
   "outputs": [
    {
     "ename": "NameError",
     "evalue": "name 'p1' is not defined",
     "output_type": "error",
     "traceback": [
      "\u001b[1;31m---------------------------------------------------------------------------\u001b[0m",
      "\u001b[1;31mNameError\u001b[0m                                 Traceback (most recent call last)",
      "Cell \u001b[1;32mIn[139], line 1\u001b[0m\n\u001b[1;32m----> 1\u001b[0m \u001b[38;5;28;01mdel\u001b[39;00m \u001b[43mp1\u001b[49m\n",
      "\u001b[1;31mNameError\u001b[0m: name 'p1' is not defined"
     ]
    }
   ],
   "source": [
    "del p1"
   ]
  },
  {
   "cell_type": "code",
   "execution_count": 163,
   "id": "458ffce2-b76c-464b-829f-bff6293d8343",
   "metadata": {},
   "outputs": [],
   "source": [
    "# Circle\n",
    "\n",
    "class Circle:\n",
    "    pi = 3.14\n",
    "\n",
    "    def __init__(self, r, x=0, y=0):\n",
    "        self.r = r\n",
    "        self.x = x\n",
    "        self.y = y\n",
    "\n",
    "    def area(self):\n",
    "        return self.pi * self.r ** 2\n",
    "\n",
    "    def move(self, x, y):\n",
    "        self.x = x\n",
    "        self.y = y\n",
    "        print(f'원의 중심이 {self.x}, {self.y}로 이동했습니다.')\n",
    "\n",
    "    def center(self):\n",
    "        return (self.x, self.y)\\\n",
    "\n",
    "    def round(self):\n",
    "        return self.r * self.pi * 2"
   ]
  },
  {
   "cell_type": "code",
   "execution_count": 164,
   "id": "76cc677a-61a7-4db4-937e-f1cd311ca95c",
   "metadata": {},
   "outputs": [
    {
     "name": "stdout",
     "output_type": "stream",
     "text": [
      "3\n",
      "28.26\n",
      "원의 중심이 0, 0로 이동했습니다.\n",
      "(0, 0)\n",
      "10\n",
      "314.0\n",
      "원의 중심이 10, 10로 이동했습니다.\n",
      "(10, 10)\n",
      "(0, 0)\n",
      "31.400000000000002\n"
     ]
    }
   ],
   "source": [
    "c1 = Circle(3, 5, 5)\n",
    "print(c1.r)\n",
    "print(c1.area())\n",
    "c1.move(0,0)\n",
    "print(c1.center())\n",
    "\n",
    "c2 = Circle(10, 0, 0)\n",
    "print(c2.r)\n",
    "print(c2.area())\n",
    "c2.move(10,10)\n",
    "print(c2.center())\n",
    "\n",
    "c3 = Circle(5)\n",
    "print(c3.center())\n",
    "print(c3.round())"
   ]
  },
  {
   "cell_type": "code",
   "execution_count": 165,
   "id": "6b442aa5-f558-49fc-9a1a-287b311eba12",
   "metadata": {},
   "outputs": [],
   "source": [
    "# Point\n",
    "# 점을 이용해 원만들기\n",
    "# Circle"
   ]
  },
  {
   "cell_type": "code",
   "execution_count": 205,
   "id": "62f2c564-f856-47fe-91ff-c55bf7f18294",
   "metadata": {},
   "outputs": [],
   "source": [
    "class Point: # 점찍기\n",
    "    def __init__(self, x, y):\n",
    "        self.x = x\n",
    "        self.y = y\n",
    "    def info(self):\n",
    "        return (self.x, self.y)\n",
    "\n",
    "class Circle: # 원그리기\n",
    "    def __init__(self, point, r):\n",
    "        self.point = point\n",
    "        self.r = r\n",
    "\n",
    "    def info(self):\n",
    "        return(self.point.x, self.point.y, self.r)\n",
    "\n",
    "    def move(self, x, y):\n",
    "        self.point.x = x\n",
    "        self.point.y = y"
   ]
  },
  {
   "cell_type": "code",
   "execution_count": 206,
   "id": "47be8219-d6fa-46ff-bbc0-e52e63da66ff",
   "metadata": {},
   "outputs": [
    {
     "name": "stdout",
     "output_type": "stream",
     "text": [
      "(3, 3)\n",
      "(3, 3)\n",
      "(3, 3, 10)\n",
      "(5, 5, 10)\n"
     ]
    },
    {
     "data": {
      "text/plain": [
       "(5, 5)"
      ]
     },
     "execution_count": 206,
     "metadata": {},
     "output_type": "execute_result"
    }
   ],
   "source": [
    "p1 = Point(3, 3)\n",
    "print(p1.info())\n",
    "\n",
    "c1 = Circle(p1, 10)\n",
    "print(c1.point.info())\n",
    "print(c1.info())\n",
    "c1.move(5, 5)\n",
    "print(c1.info())\n",
    "p1.info()"
   ]
  },
  {
   "cell_type": "code",
   "execution_count": 207,
   "id": "fc944d92-9773-4c25-9ee7-44b4f870c696",
   "metadata": {},
   "outputs": [
    {
     "name": "stdout",
     "output_type": "stream",
     "text": [
      "(5, 5, 5)\n"
     ]
    }
   ],
   "source": [
    "c2 = Circle(p1, 5)\n",
    "print(c2.info())"
   ]
  },
  {
   "cell_type": "markdown",
   "id": "24d05a0b-7199-42a3-88f4-9aa1ee7aa1de",
   "metadata": {},
   "source": [
    "### 클래스변수\n",
    "- 클래스 선언 블록 최상단에 위치\n",
    "\n",
    "### 인스턴스변수\n",
    "- 인스턴스 내부에서 생성한 변수(= self.variable)\n",
    "\n",
    "```python\n",
    "class MyClass:\n",
    "    class_variable = '클래스변수'\n",
    "\n",
    "    def __init__(self, name):\n",
    "        self.instance_variable = '인스턴스변수'"
   ]
  },
  {
   "cell_type": "code",
   "execution_count": 210,
   "id": "5302fe17-3046-490d-81f3-cd99e6bddebc",
   "metadata": {},
   "outputs": [],
   "source": [
    "class Person:\n",
    "    name = '홍길동'\n",
    "    phone = '010-1234-1234'\n",
    "\n",
    "    def __init__(self, name):\n",
    "        self.name = name"
   ]
  },
  {
   "cell_type": "code",
   "execution_count": 214,
   "id": "fdc79d97-8fb8-479a-8229-c75db8612350",
   "metadata": {},
   "outputs": [
    {
     "name": "stdout",
     "output_type": "stream",
     "text": [
      "이도현\n",
      "홍길동\n",
      "010-1234-1234\n"
     ]
    }
   ],
   "source": [
    "p1 = Person('이도현')\n",
    "print(p1.name)\n",
    "print(Person.name)\n",
    "\n",
    "print(p1.phone)"
   ]
  },
  {
   "cell_type": "markdown",
   "id": "e2a0dfd1-e3e6-4ede-9aca-e5dd2698858c",
   "metadata": {},
   "source": [
    "### 클래스 메소드, 인스턴스메소드, 스태틱메소드\n",
    "\n",
    "```python\n",
    "class MyClass:\n",
    "    def instance_method(self):\n",
    "        pass\n",
    "\n",
    "    @classmethod\n",
    "    def class_method(cls):\n",
    "        pass\n",
    "\n",
    "    @staticmethod\n",
    "    def static_method():\n",
    "        pass\n",
    "```"
   ]
  },
  {
   "cell_type": "code",
   "execution_count": 215,
   "id": "5b6c70a9-ecf4-46af-bf29-534bbdbb274a",
   "metadata": {},
   "outputs": [],
   "source": [
    "class MyClass:\n",
    "    def instance_method(self):\n",
    "        return self\n",
    "\n",
    "    @classmethod # cls : 클래스 자체를 호출\n",
    "    def class_method(cls):\n",
    "        return cls\n",
    "\n",
    "    @staticmethod\n",
    "    def static_method():\n",
    "        return 'hello'"
   ]
  },
  {
   "cell_type": "code",
   "execution_count": 219,
   "id": "55025ef9-1490-4459-a5dc-0d8480ed8d2f",
   "metadata": {},
   "outputs": [
    {
     "name": "stdout",
     "output_type": "stream",
     "text": [
      "<__main__.MyClass object at 0x000001C1B89237D0>\n",
      "<class '__main__.MyClass'>\n",
      "<class '__main__.MyClass'>\n",
      "hello\n"
     ]
    }
   ],
   "source": [
    "c = MyClass()\n",
    "\n",
    "print(c.instance_method()) # Object를 호출\n",
    "\n",
    "print(c.class_method()) #\n",
    "print(MyClass.class_method())\n",
    "print(c.static_method())"
   ]
  },
  {
   "cell_type": "code",
   "execution_count": 249,
   "id": "652dd251-b5e5-46db-b0e9-a0f273f592e3",
   "metadata": {},
   "outputs": [],
   "source": [
    "class Puppy:\n",
    "    num_of_puppy = 0\n",
    "\n",
    "    def __init__(self, name): # 인스턴스 안의 메소드가 필요할 때\n",
    "        self.name = name\n",
    "        Puppy.num_of_puppy += 1\n",
    "\n",
    "    @classmethod # => decorator:\n",
    "    def get_status(cls): # 클래스 안의 메소드가 필요할때\n",
    "        print(f'현재 강아지는 {cls.num_of_puppy}마리입니다.')\n",
    "\n",
    "    @staticmethod\n",
    "    def bark(msg): # 아무 정보도 필요 없을때\n",
    "        return msg\n",
    "\n",
    "    def bark2(self, msg):\n",
    "        return f'{self.name}은 {msg}합니다.'"
   ]
  },
  {
   "cell_type": "code",
   "execution_count": 250,
   "id": "fc34f1a7-3cd7-4a2c-83e7-552975bed27d",
   "metadata": {},
   "outputs": [
    {
     "name": "stdout",
     "output_type": "stream",
     "text": [
      "3\n",
      "3\n",
      "현재 강아지는 3마리입니다.\n",
      "현재 강아지는 3마리입니다.\n",
      "멍멍\n",
      "그르릉\n",
      "인절미은 멍멍합니다.\n"
     ]
    }
   ],
   "source": [
    "p1 = Puppy('인절미')\n",
    "p2 = Puppy('백구')\n",
    "p3 = Puppy('흰둥이')\n",
    "\n",
    "print(Puppy.num_of_puppy)\n",
    "print(p1.num_of_puppy)\n",
    "\n",
    "Puppy.get_status()\n",
    "p1.get_status()\n",
    "\n",
    "print(p1.bark('멍멍'))\n",
    "print(p2.bark('그르릉'))\n",
    "\n",
    "print(p1.bark2('멍멍'))"
   ]
  },
  {
   "cell_type": "markdown",
   "id": "e9fe1e7d-ff45-4035-8014-9f1c16ece6ce",
   "metadata": {},
   "source": [
    "## 상속"
   ]
  },
  {
   "cell_type": "code",
   "execution_count": 251,
   "id": "4f0806bf-ebf1-43d6-bce3-b31b5306d5bf",
   "metadata": {},
   "outputs": [],
   "source": [
    "class Person:\n",
    "    id = \n",
    "    def __init__(self, name):\n",
    "        self.name = name\n",
    "\n",
    "    def greeting(self):\n",
    "        print(f'안녕하세요. {self.name}입니다.')"
   ]
  },
  {
   "cell_type": "code",
   "execution_count": 252,
   "id": "9d132003-6e9d-4495-bbcf-659395411630",
   "metadata": {},
   "outputs": [
    {
     "name": "stdout",
     "output_type": "stream",
     "text": [
      "안녕하세요. 홍길동입니다.\n"
     ]
    }
   ],
   "source": [
    "p1 = Person('홍길동')\n",
    "p2 = Person('이순신')\n",
    "\n",
    "p1.greeting()"
   ]
  },
  {
   "cell_type": "code",
   "execution_count": 253,
   "id": "a7d204fa-3f72-4117-b5a9-0571c15e7cba",
   "metadata": {},
   "outputs": [],
   "source": [
    "class Student:\n",
    "\n",
    "    def __init__(self, name, student_id):\n",
    "        self.name = name\n",
    "        self.student_id = student_id\n",
    "\n",
    "    def greeting(self):\n",
    "        print(f'안녕하세요. {self.name}입니다.')"
   ]
  },
  {
   "cell_type": "code",
   "execution_count": 254,
   "id": "c3c7b444-45cb-4566-ac60-e13c6a01a41e",
   "metadata": {},
   "outputs": [
    {
     "name": "stdout",
     "output_type": "stream",
     "text": [
      "안녕하세요. 이도현입니다.\n"
     ]
    }
   ],
   "source": [
    "s1 = Student('이도현', '123123')\n",
    "s1.greeting()"
   ]
  },
  {
   "cell_type": "code",
   "execution_count": 255,
   "id": "dbaac7ca-1f54-43af-a10e-c3e5318b4fe1",
   "metadata": {},
   "outputs": [],
   "source": [
    "class Soldier:\n",
    "\n",
    "    def __init__(self, name, soldier_id):\n",
    "        self.name = name\n",
    "        self.soldier_id = soldier_id\n",
    "\n",
    "    def greeting(self):\n",
    "        print(f'충성! {self.name}입니다.')"
   ]
  },
  {
   "cell_type": "code",
   "execution_count": 256,
   "id": "bf24dae0-996e-4857-9910-cd28b53f895c",
   "metadata": {},
   "outputs": [
    {
     "name": "stdout",
     "output_type": "stream",
     "text": [
      "충성! 국방이입니다.\n"
     ]
    }
   ],
   "source": [
    "s2 = Soldier('국방이', '11-111111')\n",
    "s2.greeting()"
   ]
  },
  {
   "cell_type": "code",
   "execution_count": 258,
   "id": "0b81cda6-2362-456e-892d-be531f1212a0",
   "metadata": {},
   "outputs": [],
   "source": [
    "class Student(Person):\n",
    "        \n",
    "    # def __init__(self, name):\n",
    "    #     self.name = name\n",
    "\n",
    "    # def greeting(self):\n",
    "    #     print(f'안녕하세요. {self.name}입니다.')\n",
    "        \n",
    "    def __init__(self, name, student_id):\n",
    "        self.name = name\n",
    "        self.student_id = student_id"
   ]
  },
  {
   "cell_type": "code",
   "execution_count": 259,
   "id": "c7bdebf7-6d56-4700-9fd4-cd1f6d1d296f",
   "metadata": {},
   "outputs": [
    {
     "name": "stdout",
     "output_type": "stream",
     "text": [
      "안녕하세요. 이도현입니다.\n"
     ]
    }
   ],
   "source": [
    "s1 = Student('이도현', 123123)\n",
    "s1.greeting()"
   ]
  },
  {
   "cell_type": "code",
   "execution_count": 260,
   "id": "227f0443-cc09-414c-9a78-12ee5cbc55e0",
   "metadata": {},
   "outputs": [],
   "source": [
    "class Soldier(Person):\n",
    "    def __init__(self, name, soldier_id):\n",
    "        self.name = name\n",
    "        self.soldier_id = soldier_id\n",
    "\n",
    "    def greeting(self):\n",
    "        print(f'충성! {self.name}입니다.')        "
   ]
  },
  {
   "cell_type": "code",
   "execution_count": 261,
   "id": "b4c09093-1b2c-47e3-8e17-bd2cb4198056",
   "metadata": {},
   "outputs": [],
   "source": [
    "class Person:\n",
    "    def __init__(self, name, email, phone, location):\n",
    "        self.name = name\n",
    "        self.email = email\n",
    "        self.phone = phone\n",
    "        self.location = location\n",
    "\n",
    "class Student(Person):\n",
    "    def __init__(self, student_id):\n",
    "        self.name = name\n",
    "        self.email = email\n",
    "        self.phone = phone\n",
    "        self.location = location\n",
    "        self.student_id = student_id\n",
    "\n",
    "class Soldier(Person):\n",
    "    def __init__(self, name, email, phone, location, soldier_id):\n",
    "        # super() => Person (부모클래스)\n",
    "        super().__init__(name, email, phone, location)\n",
    "        self.soldier_id = soldier_id"
   ]
  },
  {
   "cell_type": "markdown",
   "id": "219f36cf-a8d4-4d6b-a40b-af95fcbb4abb",
   "metadata": {},
   "source": [
    "### 다중상속"
   ]
  },
  {
   "cell_type": "code",
   "execution_count": 262,
   "id": "6f01906c-6c38-4baa-aa36-6ffebe758035",
   "metadata": {},
   "outputs": [],
   "source": [
    "class Person:\n",
    "    def __init__(self, name):\n",
    "        self.name = name\n",
    "\n",
    "    def breath(self):\n",
    "        print('후하')"
   ]
  },
  {
   "cell_type": "code",
   "execution_count": 263,
   "id": "cf8de516-f361-453d-a4ea-0ddd35733796",
   "metadata": {},
   "outputs": [],
   "source": [
    "class Mom(Person):\n",
    "    gene = 'xx'\n",
    "\n",
    "    def swim(self):\n",
    "        print('어푸어푸')"
   ]
  },
  {
   "cell_type": "code",
   "execution_count": 264,
   "id": "aefc4069-4fd2-41eb-a53e-087780dd59cb",
   "metadata": {},
   "outputs": [],
   "source": [
    "class Dad(Person):\n",
    "    gene = 'xy'\n",
    "\n",
    "    def run(self):\n",
    "        print('다다다')"
   ]
  },
  {
   "cell_type": "code",
   "execution_count": 284,
   "id": "14ed252f-f876-4959-8ba3-1ca1e77b1bea",
   "metadata": {},
   "outputs": [],
   "source": [
    "class Baby(Mom, Dad):\n",
    "    pass"
   ]
  },
  {
   "cell_type": "code",
   "execution_count": 285,
   "id": "03e400f5-6dc7-4e7b-b4b1-910bbd977609",
   "metadata": {},
   "outputs": [
    {
     "name": "stdout",
     "output_type": "stream",
     "text": [
      "금쪽이\n",
      "xx\n",
      "어푸어푸\n",
      "다다다\n",
      "후하\n"
     ]
    }
   ],
   "source": [
    "b = Baby('금쪽이') \n",
    "print(b.name)\n",
    "print(b.gene) # 중복으로 가지고 있을 때 상속받은 클래스의 가장 앞부터\n",
    "\n",
    "b.swim()\n",
    "b.run()\n",
    "b.breath()\n"
   ]
  },
  {
   "cell_type": "code",
   "execution_count": null,
   "id": "ca0bae16-452f-40fb-89be-c7f80453f7bc",
   "metadata": {},
   "outputs": [],
   "source": []
  },
  {
   "cell_type": "code",
   "execution_count": null,
   "id": "da378a3f-940a-4482-8b2e-bb0e74a567d5",
   "metadata": {},
   "outputs": [],
   "source": []
  },
  {
   "cell_type": "code",
   "execution_count": null,
   "id": "0b0d0c6e-2b5c-489f-9ff1-e60938f73336",
   "metadata": {},
   "outputs": [],
   "source": []
  }
 ],
 "metadata": {
  "kernelspec": {
   "display_name": "Python 3 (ipykernel)",
   "language": "python",
   "name": "python3"
  },
  "language_info": {
   "codemirror_mode": {
    "name": "ipython",
    "version": 3
   },
   "file_extension": ".py",
   "mimetype": "text/x-python",
   "name": "python",
   "nbconvert_exporter": "python",
   "pygments_lexer": "ipython3",
   "version": "3.11.5"
  }
 },
 "nbformat": 4,
 "nbformat_minor": 5
}

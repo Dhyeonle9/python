{
 "cells": [
  {
   "cell_type": "markdown",
   "id": "917db4df-b809-499b-bbb4-7bc9a62d1087",
   "metadata": {},
   "source": [
    "# 모듈"
   ]
  },
  {
   "cell_type": "code",
   "execution_count": 17,
   "id": "7c7389a7-343a-4e0e-8293-69640115124d",
   "metadata": {},
   "outputs": [],
   "source": [
    "import fibo"
   ]
  },
  {
   "cell_type": "raw",
   "id": "eec2f0a8-91a4-4407-ac0b-c39b83523fcf",
   "metadata": {},
   "source": [
    "print(fibo)"
   ]
  },
  {
   "cell_type": "code",
   "execution_count": 18,
   "id": "a1830d7f-5773-4d6b-8abd-ce83310f5679",
   "metadata": {},
   "outputs": [
    {
     "data": {
      "text/plain": [
       "89"
      ]
     },
     "execution_count": 18,
     "metadata": {},
     "output_type": "execute_result"
    }
   ],
   "source": [
    "fibo.fib_loop(10)"
   ]
  },
  {
   "cell_type": "code",
   "execution_count": 19,
   "id": "0e57b2d6-083e-4f01-b097-e202c90c09d8",
   "metadata": {},
   "outputs": [
    {
     "data": {
      "text/plain": [
       "8"
      ]
     },
     "execution_count": 19,
     "metadata": {},
     "output_type": "execute_result"
    }
   ],
   "source": [
    "fibo.fib_rec(5)"
   ]
  },
  {
   "cell_type": "code",
   "execution_count": 20,
   "id": "187eec96-5e23-4651-b1fa-3b22abff8f24",
   "metadata": {},
   "outputs": [
    {
     "data": {
      "text/plain": [
       "999999"
      ]
     },
     "execution_count": 20,
     "metadata": {},
     "output_type": "execute_result"
    }
   ],
   "source": [
    "fibo.a"
   ]
  },
  {
   "cell_type": "markdown",
   "id": "baa4111a-f638-4091-864e-1d07b834e7ab",
   "metadata": {},
   "source": [
    "## 패키지\n",
    "```\n",
    "    myPackage/\n",
    "        __init__.py\n",
    "        math/\n",
    "            __init__.py\n",
    "            fibo.py\n",
    "            fomula.py\n",
    "```\n",
    "패키지 안에 `__init__.py`파일이 있어야 패키지로 인식"
   ]
  },
  {
   "cell_type": "code",
   "execution_count": 21,
   "id": "f050e00c-3fad-473b-8d87-edbf66eeb060",
   "metadata": {},
   "outputs": [],
   "source": [
    "import myPackage"
   ]
  },
  {
   "cell_type": "code",
   "execution_count": 22,
   "id": "d844cc5c-eb98-4555-bff3-a58b17526695",
   "metadata": {},
   "outputs": [
    {
     "name": "stdout",
     "output_type": "stream",
     "text": [
      "<module 'myPackage' from 'C:\\\\Users\\\\Dohyeon\\\\Desktop\\\\camp31\\\\python\\\\myPackage\\\\__init__.py'>\n"
     ]
    }
   ],
   "source": [
    "print(myPackage)"
   ]
  },
  {
   "cell_type": "code",
   "execution_count": 23,
   "id": "c8a93625-027e-464c-b320-fd7b78ae3122",
   "metadata": {},
   "outputs": [],
   "source": [
    "from myPackage.math import fomula"
   ]
  },
  {
   "cell_type": "code",
   "execution_count": 24,
   "id": "ddbe3e93-6a47-4a0e-8f62-5d5ef88265e2",
   "metadata": {},
   "outputs": [
    {
     "data": {
      "text/plain": [
       "3.14"
      ]
     },
     "execution_count": 24,
     "metadata": {},
     "output_type": "execute_result"
    }
   ],
   "source": [
    "fomula.pi"
   ]
  },
  {
   "cell_type": "code",
   "execution_count": 25,
   "id": "dc90d84f-9321-4192-9359-eb3869b7c1e5",
   "metadata": {},
   "outputs": [
    {
     "data": {
      "text/plain": [
       "2"
      ]
     },
     "execution_count": 25,
     "metadata": {},
     "output_type": "execute_result"
    }
   ],
   "source": [
    "fomula.my_max(1, 2)"
   ]
  },
  {
   "cell_type": "code",
   "execution_count": 26,
   "id": "b6c782ff-28a7-492f-b40c-0acf0dbb39ae",
   "metadata": {},
   "outputs": [
    {
     "name": "stdout",
     "output_type": "stream",
     "text": [
      "2\n",
      "3.14\n"
     ]
    }
   ],
   "source": [
    "import myPackage\n",
    "\n",
    "print(myPackage.math.fomula.my_max(1, 2))\n",
    "print(myPackage.math.fomula.pi)"
   ]
  },
  {
   "cell_type": "code",
   "execution_count": 27,
   "id": "0b72ffae-d6bd-4194-8cf1-de7984d9b281",
   "metadata": {},
   "outputs": [],
   "source": [
    "from myPackage.math.fibo import * # 모든 것 다 가져옴, 메모리때문에 잘 사용하지않음"
   ]
  },
  {
   "cell_type": "code",
   "execution_count": 28,
   "id": "eed3f97b-c8db-456a-b06e-9847aa6b70f6",
   "metadata": {},
   "outputs": [
    {
     "data": {
      "text/plain": [
       "8"
      ]
     },
     "execution_count": 28,
     "metadata": {},
     "output_type": "execute_result"
    }
   ],
   "source": [
    "fib_loop(5)"
   ]
  },
  {
   "cell_type": "code",
   "execution_count": 29,
   "id": "9d983dd5-986d-4905-bd7e-a22d4776645e",
   "metadata": {},
   "outputs": [
    {
     "data": {
      "text/plain": [
       "5"
      ]
     },
     "execution_count": 29,
     "metadata": {},
     "output_type": "execute_result"
    }
   ],
   "source": [
    "fib_rec(4)"
   ]
  },
  {
   "cell_type": "code",
   "execution_count": 31,
   "id": "c152da22-75a8-4fb2-8a27-184087a4d736",
   "metadata": {},
   "outputs": [
    {
     "name": "stdout",
     "output_type": "stream",
     "text": [
      "1234\n"
     ]
    }
   ],
   "source": [
    "fomula = 1234\n",
    "from myPackage.math import fomula as f # 이름을 바꿔서 사용 가능\n",
    "\n",
    "print(fomula)"
   ]
  },
  {
   "cell_type": "markdown",
   "id": "b38edfa4-4c34-4304-ab12-1474981c1627",
   "metadata": {},
   "source": [
    "## 파이썬 내장 패키지\n",
    "### math"
   ]
  },
  {
   "cell_type": "code",
   "execution_count": 32,
   "id": "3b70a2d1-608c-455b-a530-b3e75ab17cbe",
   "metadata": {},
   "outputs": [],
   "source": [
    "import math"
   ]
  },
  {
   "cell_type": "code",
   "execution_count": 33,
   "id": "0737825f-235e-4114-92ed-d540c3821837",
   "metadata": {},
   "outputs": [
    {
     "data": {
      "text/plain": [
       "3.141592653589793"
      ]
     },
     "execution_count": 33,
     "metadata": {},
     "output_type": "execute_result"
    }
   ],
   "source": [
    "math.pi"
   ]
  },
  {
   "cell_type": "code",
   "execution_count": 34,
   "id": "1844868c-29d7-4537-9c08-6f9f4b68e18c",
   "metadata": {},
   "outputs": [
    {
     "data": {
      "text/plain": [
       "2.718281828459045"
      ]
     },
     "execution_count": 34,
     "metadata": {},
     "output_type": "execute_result"
    }
   ],
   "source": [
    "math.e"
   ]
  },
  {
   "cell_type": "code",
   "execution_count": 36,
   "id": "392c2482-8a06-4736-bb54-e6444b3f7c67",
   "metadata": {},
   "outputs": [],
   "source": [
    "pi = 3.141592"
   ]
  },
  {
   "cell_type": "code",
   "execution_count": 37,
   "id": "6ccf86a5-c84d-445a-8cd6-3ae9b9f55890",
   "metadata": {},
   "outputs": [
    {
     "data": {
      "text/plain": [
       "4"
      ]
     },
     "execution_count": 37,
     "metadata": {},
     "output_type": "execute_result"
    }
   ],
   "source": [
    "math.ceil(pi)"
   ]
  },
  {
   "cell_type": "code",
   "execution_count": 38,
   "id": "2304c5ff-f98b-4021-91cc-a1ec8b93b132",
   "metadata": {},
   "outputs": [
    {
     "data": {
      "text/plain": [
       "3"
      ]
     },
     "execution_count": 38,
     "metadata": {},
     "output_type": "execute_result"
    }
   ],
   "source": [
    "math.floor(pi)"
   ]
  },
  {
   "cell_type": "code",
   "execution_count": 39,
   "id": "9e89503a-50cd-43d4-bb48-3004c6893ee4",
   "metadata": {},
   "outputs": [
    {
     "data": {
      "text/plain": [
       "3.0"
      ]
     },
     "execution_count": 39,
     "metadata": {},
     "output_type": "execute_result"
    }
   ],
   "source": [
    "math.sqrt(9)"
   ]
  },
  {
   "cell_type": "code",
   "execution_count": 41,
   "id": "98d9aca9-07d5-4ba5-9517-256a942acd2c",
   "metadata": {},
   "outputs": [
    {
     "data": {
      "text/plain": [
       "3628800"
      ]
     },
     "execution_count": 41,
     "metadata": {},
     "output_type": "execute_result"
    }
   ],
   "source": [
    "math.factorial(10)"
   ]
  },
  {
   "cell_type": "markdown",
   "id": "17a55be1-bffb-49f3-89b3-1c469bd1bd52",
   "metadata": {},
   "source": [
    "### random"
   ]
  },
  {
   "cell_type": "code",
   "execution_count": 42,
   "id": "adbfb620-3589-4a88-a29b-fd8a2a3a43e0",
   "metadata": {},
   "outputs": [],
   "source": [
    "import random"
   ]
  },
  {
   "cell_type": "code",
   "execution_count": 54,
   "id": "06f7cbbd-8c80-4946-8720-70fd52d26fdb",
   "metadata": {},
   "outputs": [
    {
     "data": {
      "text/plain": [
       "0.803797321561327"
      ]
     },
     "execution_count": 54,
     "metadata": {},
     "output_type": "execute_result"
    }
   ],
   "source": [
    "random.random()"
   ]
  },
  {
   "cell_type": "code",
   "execution_count": 55,
   "id": "64368c2e-d44a-41db-bc1a-4dafba62eb60",
   "metadata": {},
   "outputs": [
    {
     "data": {
      "text/plain": [
       "1"
      ]
     },
     "execution_count": 55,
     "metadata": {},
     "output_type": "execute_result"
    }
   ],
   "source": [
    "random.randint(1, 10)"
   ]
  },
  {
   "cell_type": "code",
   "execution_count": 68,
   "id": "45e36d33-3ef5-40b6-9bac-413207005984",
   "metadata": {
    "scrolled": true
   },
   "outputs": [
    {
     "data": {
      "text/plain": [
       "0.9560342718892494"
      ]
     },
     "execution_count": 68,
     "metadata": {},
     "output_type": "execute_result"
    }
   ],
   "source": [
    "# seed\n",
    "random.seed(2) # 정해진 seed로 random을 돌림 (값이 바뀌지않음)\n",
    "random.random()"
   ]
  },
  {
   "cell_type": "code",
   "execution_count": 69,
   "id": "26231441-ac2a-4c1c-835a-8fc7c47f91c9",
   "metadata": {},
   "outputs": [
    {
     "name": "stdout",
     "output_type": "stream",
     "text": [
      "[1, 2, 3, 4, 5]\n",
      "[3, 2, 4, 5, 1]\n"
     ]
    }
   ],
   "source": [
    "a = [1, 2, 3, 4, 5]\n",
    "print(a)\n",
    "\n",
    "random.shuffle(a) # 해당하는 리스트의 순서를 무작위로 섞어줌\n",
    "print(a)"
   ]
  },
  {
   "cell_type": "code",
   "execution_count": 76,
   "id": "e9267029-80be-4045-a2b1-e12312c5cfa6",
   "metadata": {},
   "outputs": [
    {
     "data": {
      "text/plain": [
       "'가위'"
      ]
     },
     "execution_count": 76,
     "metadata": {},
     "output_type": "execute_result"
    }
   ],
   "source": [
    "rcp = ['가위', '바위', '보']\n",
    "random.choice(rcp)"
   ]
  },
  {
   "cell_type": "code",
   "execution_count": 82,
   "id": "850fb446-716a-4543-a057-9db073da7cea",
   "metadata": {},
   "outputs": [
    {
     "data": {
      "text/plain": [
       "[33, 45, 24, 44, 36, 12]"
      ]
     },
     "execution_count": 82,
     "metadata": {},
     "output_type": "execute_result"
    }
   ],
   "source": [
    "random.sample(range(1, 46), 6)"
   ]
  },
  {
   "cell_type": "markdown",
   "id": "4f19e6ae-6581-4e9a-8fcf-67794685daa1",
   "metadata": {},
   "source": [
    "### datetime"
   ]
  },
  {
   "cell_type": "code",
   "execution_count": 92,
   "id": "3aee7bb0-8da8-4710-8c1c-c098a88a77aa",
   "metadata": {},
   "outputs": [],
   "source": [
    "from datetime import datetime"
   ]
  },
  {
   "cell_type": "code",
   "execution_count": 124,
   "id": "60258b29-9fc1-40c1-87cc-aa0465515dd6",
   "metadata": {},
   "outputs": [
    {
     "name": "stdout",
     "output_type": "stream",
     "text": [
      "2023-10-11 16:39:27.484685\n"
     ]
    }
   ],
   "source": [
    "datetime.now()\n",
    "print(datetime.now())"
   ]
  },
  {
   "cell_type": "code",
   "execution_count": 123,
   "id": "b0e2a0de-324a-41e6-87ab-4d193bd00110",
   "metadata": {},
   "outputs": [
    {
     "name": "stdout",
     "output_type": "stream",
     "text": [
      "2023-10-11 16:39:15.053251\n"
     ]
    }
   ],
   "source": [
    "today = datetime.today()\n",
    "print(datetime.today())"
   ]
  },
  {
   "cell_type": "code",
   "execution_count": 98,
   "id": "1e0e4da3-38da-43ff-bb4b-75d5fc126740",
   "metadata": {},
   "outputs": [
    {
     "data": {
      "text/plain": [
       "datetime.datetime(2023, 10, 11, 1, 23, 59, 10114)"
      ]
     },
     "execution_count": 98,
     "metadata": {},
     "output_type": "execute_result"
    }
   ],
   "source": [
    "datetime.utcnow()"
   ]
  },
  {
   "cell_type": "code",
   "execution_count": 103,
   "id": "af220129-b332-43b3-bd55-4561b1342227",
   "metadata": {},
   "outputs": [
    {
     "data": {
      "text/plain": [
       "'2023년 10월 11일 Wed'"
      ]
     },
     "execution_count": 103,
     "metadata": {},
     "output_type": "execute_result"
    }
   ],
   "source": [
    "now = datetime.now()\n",
    "now.strftime('%Y년 %m월 %d일 %a')"
   ]
  },
  {
   "cell_type": "code",
   "execution_count": 104,
   "id": "387de016-d475-453a-b568-cf00f02612cd",
   "metadata": {},
   "outputs": [
    {
     "data": {
      "text/plain": [
       "2023"
      ]
     },
     "execution_count": 104,
     "metadata": {},
     "output_type": "execute_result"
    }
   ],
   "source": [
    "now.year"
   ]
  },
  {
   "cell_type": "code",
   "execution_count": 106,
   "id": "457edaab-3f9a-4fe5-9f33-c7b96f41d563",
   "metadata": {},
   "outputs": [
    {
     "data": {
      "text/plain": [
       "11"
      ]
     },
     "execution_count": 106,
     "metadata": {},
     "output_type": "execute_result"
    }
   ],
   "source": [
    "now.day"
   ]
  },
  {
   "cell_type": "code",
   "execution_count": 107,
   "id": "5996b6f0-fcba-4621-a0c6-f04829a658b4",
   "metadata": {},
   "outputs": [
    {
     "data": {
      "text/plain": [
       "2"
      ]
     },
     "execution_count": 107,
     "metadata": {},
     "output_type": "execute_result"
    }
   ],
   "source": [
    "# => 0~6 /월~일\n",
    "now.weekday()"
   ]
  },
  {
   "cell_type": "code",
   "execution_count": 111,
   "id": "46f11b1f-1073-4305-8d4c-3d96ba3e1366",
   "metadata": {},
   "outputs": [
    {
     "name": "stdout",
     "output_type": "stream",
     "text": [
      "2023-01-01 00:00:00\n"
     ]
    }
   ],
   "source": [
    "birth = datetime(2023, 1, 1) # 데이터를 넣어 원하는 시간을 임의로 만들 수 있음\n",
    "print(birth)"
   ]
  },
  {
   "cell_type": "code",
   "execution_count": 112,
   "id": "5cb24ab1-c7f3-4920-93fb-5f90a7316c17",
   "metadata": {},
   "outputs": [],
   "source": [
    "from datetime import timedelta"
   ]
  },
  {
   "cell_type": "code",
   "execution_count": 113,
   "id": "6eb8ed4b-72a3-49ec-b25d-77df6e1a9c0c",
   "metadata": {},
   "outputs": [
    {
     "name": "stdout",
     "output_type": "stream",
     "text": [
      "3 days, 0:00:00\n"
     ]
    }
   ],
   "source": [
    "future = timedelta(days=3)\n",
    "print(future)"
   ]
  },
  {
   "cell_type": "code",
   "execution_count": 114,
   "id": "5ad9043c-47d9-4f80-9288-960f18a0b090",
   "metadata": {},
   "outputs": [
    {
     "data": {
      "text/plain": [
       "datetime.datetime(2023, 1, 4, 0, 0)"
      ]
     },
     "execution_count": 114,
     "metadata": {},
     "output_type": "execute_result"
    }
   ],
   "source": [
    "birth + future"
   ]
  },
  {
   "cell_type": "code",
   "execution_count": 115,
   "id": "948c9946-d16d-43dc-885d-ad881d420ce8",
   "metadata": {},
   "outputs": [
    {
     "name": "stdout",
     "output_type": "stream",
     "text": [
      "81 days, 13:24:43.781133\n"
     ]
    }
   ],
   "source": [
    "new_year = datetime(2024, 1, 1)\n",
    "now = datetime.now()\n",
    "\n",
    "print(new_year - now)\n",
    "\n"
   ]
  },
  {
   "cell_type": "code",
   "execution_count": 116,
   "id": "1a8f2353-2ad7-4453-b3aa-90a44735e9f3",
   "metadata": {},
   "outputs": [
    {
     "name": "stdout",
     "output_type": "stream",
     "text": [
      "2024-01-19 10:35:53.357797\n"
     ]
    }
   ],
   "source": [
    "now = datetime.now()\n",
    "f = timedelta(days = 100)\n",
    "print(now + f)"
   ]
  },
  {
   "cell_type": "code",
   "execution_count": null,
   "id": "5bb42021-0194-43a3-b2f9-663c4473ce1f",
   "metadata": {},
   "outputs": [],
   "source": []
  }
 ],
 "metadata": {
  "kernelspec": {
   "display_name": "Python 3 (ipykernel)",
   "language": "python",
   "name": "python3"
  },
  "language_info": {
   "codemirror_mode": {
    "name": "ipython",
    "version": 3
   },
   "file_extension": ".py",
   "mimetype": "text/x-python",
   "name": "python",
   "nbconvert_exporter": "python",
   "pygments_lexer": "ipython3",
   "version": "3.11.5"
  }
 },
 "nbformat": 4,
 "nbformat_minor": 5
}

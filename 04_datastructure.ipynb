{
 "cells": [
  {
   "cell_type": "code",
   "execution_count": 1,
   "id": "d097c9a5-3147-406b-ba95-417d0a160682",
   "metadata": {},
   "outputs": [
    {
     "name": "stdout",
     "output_type": "stream",
     "text": [
      "hello\n"
     ]
    }
   ],
   "source": [
    "print('hello')"
   ]
  },
  {
   "cell_type": "code",
   "execution_count": 3,
   "id": "fc3721ad-1899-4263-8ca4-cc2879c4024b",
   "metadata": {},
   "outputs": [
    {
     "data": {
      "text/plain": [
       "'일이삼'"
      ]
     },
     "execution_count": 3,
     "metadata": {},
     "output_type": "execute_result"
    }
   ],
   "source": [
    "''.join(('일', '이', '삼'))"
   ]
  },
  {
   "cell_type": "code",
   "execution_count": 5,
   "id": "3d2e1a6a-c210-4415-a19e-bf7a3c55a83c",
   "metadata": {},
   "outputs": [
    {
     "data": {
      "text/plain": [
       "['__add__',\n",
       " '__class__',\n",
       " '__contains__',\n",
       " '__delattr__',\n",
       " '__dir__',\n",
       " '__doc__',\n",
       " '__eq__',\n",
       " '__format__',\n",
       " '__ge__',\n",
       " '__getattribute__',\n",
       " '__getitem__',\n",
       " '__getnewargs__',\n",
       " '__getstate__',\n",
       " '__gt__',\n",
       " '__hash__',\n",
       " '__init__',\n",
       " '__init_subclass__',\n",
       " '__iter__',\n",
       " '__le__',\n",
       " '__len__',\n",
       " '__lt__',\n",
       " '__mod__',\n",
       " '__mul__',\n",
       " '__ne__',\n",
       " '__new__',\n",
       " '__reduce__',\n",
       " '__reduce_ex__',\n",
       " '__repr__',\n",
       " '__rmod__',\n",
       " '__rmul__',\n",
       " '__setattr__',\n",
       " '__sizeof__',\n",
       " '__str__',\n",
       " '__subclasshook__',\n",
       " 'capitalize',\n",
       " 'casefold',\n",
       " 'center',\n",
       " 'count',\n",
       " 'encode',\n",
       " 'endswith',\n",
       " 'expandtabs',\n",
       " 'find',\n",
       " 'format',\n",
       " 'format_map',\n",
       " 'index',\n",
       " 'isalnum',\n",
       " 'isalpha',\n",
       " 'isascii',\n",
       " 'isdecimal',\n",
       " 'isdigit',\n",
       " 'isidentifier',\n",
       " 'islower',\n",
       " 'isnumeric',\n",
       " 'isprintable',\n",
       " 'isspace',\n",
       " 'istitle',\n",
       " 'isupper',\n",
       " 'join',\n",
       " 'ljust',\n",
       " 'lower',\n",
       " 'lstrip',\n",
       " 'maketrans',\n",
       " 'partition',\n",
       " 'removeprefix',\n",
       " 'removesuffix',\n",
       " 'replace',\n",
       " 'rfind',\n",
       " 'rindex',\n",
       " 'rjust',\n",
       " 'rpartition',\n",
       " 'rsplit',\n",
       " 'rstrip',\n",
       " 'split',\n",
       " 'splitlines',\n",
       " 'startswith',\n",
       " 'strip',\n",
       " 'swapcase',\n",
       " 'title',\n",
       " 'translate',\n",
       " 'upper',\n",
       " 'zfill']"
      ]
     },
     "execution_count": 5,
     "metadata": {},
     "output_type": "execute_result"
    }
   ],
   "source": [
    "dir('hello')"
   ]
  },
  {
   "cell_type": "markdown",
   "id": "2d8082a6-6558-4c05-ad7c-3ffdfa8ec7b9",
   "metadata": {},
   "source": [
    "## 문자열 메소드\n",
    "- 함수(Function) : 함수는 특정 작업을 수행하는 \"코드조각\"이에요. 전역, 지역이던 \"독립된 기능\"을 수행하는 단위죠. \r",
    "- 메소드(Method) :  클래스, 구조체, 열거형 등 객체에 포함되어있는 \"함수\"를 메소드라고 부릅니다. 메소드를 다른말로 \"클래스 함수\"\n",
    "\r\n"
   ]
  },
  {
   "cell_type": "code",
   "execution_count": 19,
   "id": "7ffc43d9-7d62-4101-9412-ce74340e0125",
   "metadata": {},
   "outputs": [],
   "source": [
    "a = 'hello my name is dohyeon'"
   ]
  },
  {
   "cell_type": "code",
   "execution_count": 10,
   "id": "57df6182-f782-4950-b07b-16aa6f6769be",
   "metadata": {},
   "outputs": [
    {
     "name": "stdout",
     "output_type": "stream",
     "text": [
      "hello my name is dohyeon\n"
     ]
    }
   ],
   "source": [
    "print(a)"
   ]
  },
  {
   "cell_type": "code",
   "execution_count": 14,
   "id": "de20c175-586a-4690-bcc4-11ac483364e2",
   "metadata": {},
   "outputs": [
    {
     "name": "stdout",
     "output_type": "stream",
     "text": [
      "e\n"
     ]
    }
   ],
   "source": [
    "print(a[1])"
   ]
  },
  {
   "cell_type": "code",
   "execution_count": 17,
   "id": "2c395a82-9137-40f3-a200-98c9510a169e",
   "metadata": {},
   "outputs": [
    {
     "ename": "TypeError",
     "evalue": "'str' object does not support item assignment",
     "output_type": "error",
     "traceback": [
      "\u001b[1;31m---------------------------------------------------------------------------\u001b[0m",
      "\u001b[1;31mTypeError\u001b[0m                                 Traceback (most recent call last)",
      "Cell \u001b[1;32mIn[17], line 1\u001b[0m\n\u001b[1;32m----> 1\u001b[0m \u001b[43ma\u001b[49m\u001b[43m[\u001b[49m\u001b[38;5;241;43m0\u001b[39;49m\u001b[43m]\u001b[49m \u001b[38;5;241m=\u001b[39m \u001b[38;5;124m'\u001b[39m\u001b[38;5;124mH\u001b[39m\u001b[38;5;124m'\u001b[39m \n\u001b[0;32m      2\u001b[0m \u001b[38;5;66;03m#string 문자열은 immutable하기 때문에 수정 불가능\u001b[39;00m\n",
      "\u001b[1;31mTypeError\u001b[0m: 'str' object does not support item assignment"
     ]
    }
   ],
   "source": [
    "a[0] = 'H' \n",
    "#string 문자열은 immutable하기 때문에 수정 불가능"
   ]
  },
  {
   "cell_type": "code",
   "execution_count": 22,
   "id": "0ece4b42-0eba-4072-a7d8-3c8782826575",
   "metadata": {},
   "outputs": [
    {
     "name": "stdout",
     "output_type": "stream",
     "text": [
      "Hello my name is dohyeon\n"
     ]
    }
   ],
   "source": [
    "a = a.capitalize()\n",
    "print(a)"
   ]
  },
  {
   "cell_type": "code",
   "execution_count": 23,
   "id": "5c87a18c-d769-498a-9577-f33af13d5f27",
   "metadata": {},
   "outputs": [
    {
     "data": {
      "text/plain": [
       "'Hello My Name Is Dohyeon'"
      ]
     },
     "execution_count": 23,
     "metadata": {},
     "output_type": "execute_result"
    }
   ],
   "source": [
    "a.title()"
   ]
  },
  {
   "cell_type": "code",
   "execution_count": 24,
   "id": "672578f7-315f-4b53-b719-934afbcd0f09",
   "metadata": {},
   "outputs": [
    {
     "data": {
      "text/plain": [
       "'HELLO MY NAME IS DOHYEON'"
      ]
     },
     "execution_count": 24,
     "metadata": {},
     "output_type": "execute_result"
    }
   ],
   "source": [
    "a.upper()"
   ]
  },
  {
   "cell_type": "code",
   "execution_count": 26,
   "id": "9b4f20df-6ad2-46fc-9550-8f4f2111614a",
   "metadata": {},
   "outputs": [
    {
     "data": {
      "text/plain": [
       "'himyname'"
      ]
     },
     "execution_count": 26,
     "metadata": {},
     "output_type": "execute_result"
    }
   ],
   "source": [
    "my_list = ['hi', 'my', 'name']\n",
    "''.join(my_list)"
   ]
  },
  {
   "cell_type": "code",
   "execution_count": 42,
   "id": "63ebd938-14df-4d03-b3ef-574fe87d62d4",
   "metadata": {},
   "outputs": [
    {
     "name": "stdout",
     "output_type": "stream",
     "text": [
      "    h  e llo\n",
      "      \n",
      "h  e llo\n",
      "h  e llo\n",
      "\n",
      "ello\n",
      "ellohihihihihi\n",
      "hihihihihihihello\n"
     ]
    }
   ],
   "source": [
    "#.strip([chars])\n",
    "\n",
    "my_string = '    h  e llo\\n      '\n",
    "print(my_string)\n",
    "print(my_string.strip())\n",
    "print(my_string.strip(' '))\n",
    "\n",
    "my_string2 = 'hihihihihihihellohihihihihi'\n",
    "\n",
    "print(my_string2.strip('hi'))\n",
    "print(my_string2.lstrip('hi'))\n",
    "print(my_string2.rstrip('hi'))"
   ]
  },
  {
   "cell_type": "code",
   "execution_count": 51,
   "id": "995604d1-ca52-4983-b3c4-e14936361d5c",
   "metadata": {},
   "outputs": [
    {
     "name": "stdout",
     "output_type": "stream",
     "text": [
      "w!!!!!!!!!!!!!!!w\n",
      "w!!!!!oooooooooow\n"
     ]
    }
   ],
   "source": [
    "# .replace(ord, new, count) , 원본을 바꾸지는 않음\n",
    "a = 'wooooooooooooooow'\n",
    "print(a.replace('o','!'))\n",
    "print(a.replace('o','!', 5))"
   ]
  },
  {
   "cell_type": "code",
   "execution_count": 62,
   "id": "6682aece-3ce0-496a-9dd8-888a2c2e9ad3",
   "metadata": {},
   "outputs": [
    {
     "name": "stdout",
     "output_type": "stream",
     "text": [
      "0\n",
      "1\n",
      "-1\n"
     ]
    }
   ],
   "source": [
    "# .find(x) : 문자열 앞에서 x의 찾아 위치를 표시해줌\n",
    "a = 'apple'\n",
    "print(a.find('a'))\n",
    "print(a.find('p'))\n",
    "print(a.find('z'))\n",
    "\n",
    "# for i in range(len(a)):\n",
    "#     if 'p' == a[i]:\n",
    "#         print(i)\n",
    "#         break\n",
    "#     else:\n",
    "#         print(-1)"
   ]
  },
  {
   "cell_type": "code",
   "execution_count": 65,
   "id": "83a28746-041b-4a67-9c6d-727116764434",
   "metadata": {},
   "outputs": [
    {
     "name": "stdout",
     "output_type": "stream",
     "text": [
      "0\n"
     ]
    },
    {
     "ename": "ValueError",
     "evalue": "substring not found",
     "output_type": "error",
     "traceback": [
      "\u001b[1;31m---------------------------------------------------------------------------\u001b[0m",
      "\u001b[1;31mValueError\u001b[0m                                Traceback (most recent call last)",
      "Cell \u001b[1;32mIn[65], line 4\u001b[0m\n\u001b[0;32m      2\u001b[0m a \u001b[38;5;241m=\u001b[39m \u001b[38;5;124m'\u001b[39m\u001b[38;5;124mapple\u001b[39m\u001b[38;5;124m'\u001b[39m\n\u001b[0;32m      3\u001b[0m \u001b[38;5;28mprint\u001b[39m(a\u001b[38;5;241m.\u001b[39mindex(\u001b[38;5;124m'\u001b[39m\u001b[38;5;124ma\u001b[39m\u001b[38;5;124m'\u001b[39m))\n\u001b[1;32m----> 4\u001b[0m \u001b[38;5;28mprint\u001b[39m(\u001b[43ma\u001b[49m\u001b[38;5;241;43m.\u001b[39;49m\u001b[43mindex\u001b[49m\u001b[43m(\u001b[49m\u001b[38;5;124;43m'\u001b[39;49m\u001b[38;5;124;43mz\u001b[39;49m\u001b[38;5;124;43m'\u001b[39;49m\u001b[43m)\u001b[49m)\n",
      "\u001b[1;31mValueError\u001b[0m: substring not found"
     ]
    }
   ],
   "source": [
    "# .index(x) : .find()와 차이 - .find()는 찾는 문자열 없을 시 -1, .index()는 에러 출력\n",
    "a = 'apple'\n",
    "print(a.index('a'))\n",
    "print(a.index('z'))"
   ]
  },
  {
   "cell_type": "code",
   "execution_count": 69,
   "id": "4f8d1b4b-c8e6-42d7-be65-0bd7825256c0",
   "metadata": {},
   "outputs": [
    {
     "name": "stdout",
     "output_type": "stream",
     "text": [
      "['my', 'name', 'is']\n",
      "['my', 'name', 'is']\n"
     ]
    }
   ],
   "source": [
    "# .split(x) : 공백을 기준으로 문자열을 쪼개고 리스트로 만들어줌\n",
    "a = 'my name is'\n",
    "print(a.split())\n",
    "b = 'my_name_is'\n",
    "print(b.split('_')) # 쪼개는 기준을 바꾸고 싶다면 ''안에 원하는 문자열 넣으면 됨"
   ]
  },
  {
   "cell_type": "code",
   "execution_count": 71,
   "id": "be4e1ed1-9750-4018-9b1f-9871c71fe409",
   "metadata": {},
   "outputs": [
    {
     "data": {
      "text/plain": [
       "7"
      ]
     },
     "execution_count": 71,
     "metadata": {},
     "output_type": "execute_result"
    }
   ],
   "source": [
    "# .count(x) : 문자열에서 해당 문자 포함 수를 출력\n",
    "'wooooooow'.count('o')"
   ]
  },
  {
   "cell_type": "markdown",
   "id": "e1d980aa-c6cd-455f-af18-cd8fa8120e19",
   "metadata": {},
   "source": [
    "## 리스트 메소드"
   ]
  },
  {
   "cell_type": "code",
   "execution_count": 103,
   "id": "b257c166-2faf-45b0-bc1b-c799abdb846a",
   "metadata": {},
   "outputs": [],
   "source": [
    "numbers = [1, 5, 2, 6, 2, 1]"
   ]
  },
  {
   "cell_type": "code",
   "execution_count": 95,
   "id": "269571f2-52c6-42f1-ae36-9152eff8624b",
   "metadata": {},
   "outputs": [
    {
     "name": "stdout",
     "output_type": "stream",
     "text": [
      "[1, 5, 2, 6, 2, 1, 10]\n"
     ]
    }
   ],
   "source": [
    "numbers.append(10)\n",
    "print(numbers)"
   ]
  },
  {
   "cell_type": "code",
   "execution_count": 96,
   "id": "b8402928-d5bd-49e1-b885-c9788bd03242",
   "metadata": {},
   "outputs": [
    {
     "name": "stdout",
     "output_type": "stream",
     "text": [
      "[1, 5, 2, 6, 2, 1, 10, 99, 100]\n"
     ]
    }
   ],
   "source": [
    "# .extend(iterable) # 반복가능한 객체를 넣어야함 (배열 등)\n",
    "a = [99, 100]\n",
    "\n",
    "numbers.extend(a)\n",
    "print(numbers)\n",
    "# print(numbers + a)와 같음"
   ]
  },
  {
   "cell_type": "code",
   "execution_count": 199,
   "id": "5c35584a-b1fb-4302-a391-fe1ddfd880aa",
   "metadata": {},
   "outputs": [
    {
     "name": "stdout",
     "output_type": "stream",
     "text": [
      "[1, 2, 3, 3.5, 4, 5, 6, 7, 8, 9, 10]\n"
     ]
    }
   ],
   "source": [
    "# .insert(idx[, x]) : 원하는 위치에 데이터를 넣을때\n",
    "numbers.insert(3, 3.5)\n",
    "print(numbers)"
   ]
  },
  {
   "cell_type": "code",
   "execution_count": 98,
   "id": "c9a0a6b6-5ede-4ab3-9362-96934bb5ea20",
   "metadata": {},
   "outputs": [
    {
     "name": "stdout",
     "output_type": "stream",
     "text": [
      "[1, 5, 2, 6, 2, 1, 10, 99, 100]\n"
     ]
    }
   ],
   "source": [
    "# .remove(x) : 원하는 값을 리스트에서 지울때, 없을때는 에러\n",
    "numbers.remove(3.5)\n",
    "print(numbers)"
   ]
  },
  {
   "cell_type": "code",
   "execution_count": 101,
   "id": "eb7851e4-eb64-4740-843a-c90b9228650a",
   "metadata": {},
   "outputs": [
    {
     "name": "stdout",
     "output_type": "stream",
     "text": [
      "[2, 6, 2, 1]\n",
      "2\n"
     ]
    }
   ],
   "source": [
    "# .pop() : 가장 뒤에 있는 값을 하나 삭제 (append, pop) 스택된 데이터 가장 위의 것을 변경\n",
    "numbers.pop()\n",
    "print(numbers)\n",
    "\n",
    "print(numbers.pop(0)) #원하는 인덱스값을 넣으면 원하는 위치의 값을 삭제 가능"
   ]
  },
  {
   "cell_type": "code",
   "execution_count": 102,
   "id": "1f6da932-8d49-4a91-ad01-61ae6ed45d90",
   "metadata": {},
   "outputs": [
    {
     "name": "stdout",
     "output_type": "stream",
     "text": [
      "1\n"
     ]
    }
   ],
   "source": [
    "num = numbers.pop()\n",
    "print(num)"
   ]
  },
  {
   "cell_type": "code",
   "execution_count": 110,
   "id": "c2fc0ae3-d9e8-4399-978b-f73ad69d0177",
   "metadata": {},
   "outputs": [
    {
     "name": "stdout",
     "output_type": "stream",
     "text": [
      "[1, 6, 2, 1, 3, 2, 7, 10]\n",
      "None\n",
      "[1, 1, 2, 2, 3, 6, 7, 10]\n",
      "[10, 7, 6, 3, 2, 2, 1, 1]\n"
     ]
    }
   ],
   "source": [
    "# .sort() # 메쏘드는 원본을 바꾸고 return이 None\n",
    "numbers = [1, 6, 2, 1, 3, 2, 7, 10]\n",
    "print(numbers)\n",
    "\n",
    "print(numbers.sort())\n",
    "print(numbers)\n",
    "\n",
    "numbers.sort(reverse=True)\n",
    "print(numbers)      "
   ]
  },
  {
   "cell_type": "code",
   "execution_count": 113,
   "id": "1350e82e-8a1b-4162-bbd9-243a98b99bd1",
   "metadata": {},
   "outputs": [
    {
     "name": "stdout",
     "output_type": "stream",
     "text": [
      "[1, 1, 2, 2, 3, 6, 7, 10]\n",
      "[1, 6, 2, 1, 3, 2, 7, 10]\n"
     ]
    }
   ],
   "source": [
    "# .sort()와 동작 비슷, 원본을 바꾸지 않고 return을 내놓는다.\n",
    "numbers = [1, 6, 2, 1, 3, 2, 7, 10]\n",
    "print(sorted(numbers))\n",
    "print(numbers)"
   ]
  },
  {
   "cell_type": "code",
   "execution_count": 116,
   "id": "17f43da3-513f-4f29-9239-74fec0106aad",
   "metadata": {},
   "outputs": [
    {
     "name": "stdout",
     "output_type": "stream",
     "text": [
      "[1, 6, 2, 1, 3, 2, 7, 10]\n",
      "[10, 7, 2, 3, 1, 2, 6, 1]\n",
      "[1, 6, 2, 1, 3, 2, 7, 10]\n"
     ]
    }
   ],
   "source": [
    "# .reverse() : 뒤집기\n",
    "numbers = [1, 6, 2, 1, 3, 2, 7, 10]\n",
    "print(numbers)\n",
    "numbers.reverse()\n",
    "print(numbers)\n",
    "numbers = numbers[ : : -1]\n",
    "print(numbers)"
   ]
  },
  {
   "cell_type": "markdown",
   "id": "76c80052-4e4a-4e49-b440-f369dc6a713e",
   "metadata": {},
   "source": [
    "## list copy"
   ]
  },
  {
   "cell_type": "code",
   "execution_count": 122,
   "id": "1c5c9489-862d-484f-afa0-64abaa828a22",
   "metadata": {},
   "outputs": [],
   "source": [
    "origin_list = [1, 2, 3] # 기존 객체를 재할당 (call by reference)\n",
    "copy_list = origin_list"
   ]
  },
  {
   "cell_type": "code",
   "execution_count": 123,
   "id": "66f1a1da-cb83-4ac1-bb99-03c979a5e46a",
   "metadata": {},
   "outputs": [
    {
     "name": "stdout",
     "output_type": "stream",
     "text": [
      "[1, 2, 3]\n",
      "[1, 2, 3]\n"
     ]
    }
   ],
   "source": [
    "print(origin_list)\n",
    "print(copy_list)"
   ]
  },
  {
   "cell_type": "code",
   "execution_count": 124,
   "id": "94910230-b995-446d-9c2e-da24302fecf6",
   "metadata": {},
   "outputs": [],
   "source": [
    "copy_list[0] = 100"
   ]
  },
  {
   "cell_type": "code",
   "execution_count": 125,
   "id": "f46829d8-821e-4132-8848-cdc539f5916d",
   "metadata": {},
   "outputs": [
    {
     "name": "stdout",
     "output_type": "stream",
     "text": [
      "[100, 2, 3]\n",
      "[100, 2, 3]\n"
     ]
    }
   ],
   "source": [
    "print(origin_list)\n",
    "print(copy_list)"
   ]
  },
  {
   "cell_type": "code",
   "execution_count": 127,
   "id": "b0713d39-eb34-49d7-83fb-606a14d78c51",
   "metadata": {},
   "outputs": [
    {
     "name": "stdout",
     "output_type": "stream",
     "text": [
      "[1, 2, 3]\n",
      "[100, 2, 3]\n"
     ]
    }
   ],
   "source": [
    "a = [1, 2, 3]\n",
    "# b = list(a) # 새로운 리스트를 만듬, 복사하고 싶다면 이렇게\n",
    "b = a[:]\n",
    "\n",
    "b[0] = 100\n",
    "\n",
    "print(a)\n",
    "print(b)"
   ]
  },
  {
   "cell_type": "code",
   "execution_count": 132,
   "id": "fbdc080e-afbc-4f3d-9b3f-6ec92e0641de",
   "metadata": {},
   "outputs": [
    {
     "name": "stdout",
     "output_type": "stream",
     "text": [
      "[1, 2, [99, 1000]]\n",
      "[1, 2, [99, 1000]]\n"
     ]
    }
   ],
   "source": [
    "a = [    1,     2,     [99, 100]    ]\n",
    "b = a[:] # b = list(a)\n",
    "\n",
    "b[2][1] = 1000\n",
    "\n",
    "print(a)\n",
    "print(b) # depth가 있는 리스트는 같은 주소 할당될 수 있음"
   ]
  },
  {
   "cell_type": "code",
   "execution_count": 134,
   "id": "d4a0f07f-3e82-4acb-bab5-f9e32185aa3f",
   "metadata": {},
   "outputs": [
    {
     "name": "stdout",
     "output_type": "stream",
     "text": [
      "[1, 2, [99, 100]]\n",
      "[1, 2, [99, 1000]]\n"
     ]
    }
   ],
   "source": [
    "import copy\n",
    "\n",
    "a = [1, 2, [99, 100]]\n",
    "b = copy.deepcopy(a) # 리스트안에 또 다른 리스트들이 있을 때 복사하여 개별적으로 이용하려면 .deepcopy 이용\n",
    "\n",
    "b[2][1] = 1000\n",
    "\n",
    "print(a)\n",
    "print(b)"
   ]
  },
  {
   "cell_type": "markdown",
   "id": "b29f510f-f7d2-48ba-992c-b35a7948ae15",
   "metadata": {},
   "source": [
    "## list comprehension"
   ]
  },
  {
   "cell_type": "code",
   "execution_count": 137,
   "id": "8c5cdc1e-5e73-4f44-88c3-33bd2988cf2f",
   "metadata": {},
   "outputs": [
    {
     "name": "stdout",
     "output_type": "stream",
     "text": [
      "[1, 2, 3, 4, 5, 6, 7, 8, 9, 10]\n"
     ]
    }
   ],
   "source": [
    "numbers = list(range(1, 11))\n",
    "print(numbers)"
   ]
  },
  {
   "cell_type": "code",
   "execution_count": 138,
   "id": "c18821ba-af39-47f9-90ea-1d10b59dbe69",
   "metadata": {},
   "outputs": [
    {
     "name": "stdout",
     "output_type": "stream",
     "text": [
      "[1, 8, 27, 64, 125, 216, 343, 512, 729, 1000]\n"
     ]
    }
   ],
   "source": [
    "# [1, 8, 27, ... , 1000] => 세제곱 만들기\n",
    "result = []\n",
    "\n",
    "for number in numbers:\n",
    "    result.append(number **3)\n",
    "print(result)"
   ]
  },
  {
   "cell_type": "code",
   "execution_count": 139,
   "id": "553666cb-ea00-4367-b86a-7d863fe11030",
   "metadata": {},
   "outputs": [
    {
     "name": "stdout",
     "output_type": "stream",
     "text": [
      "[1, 8, 27, 64, 125, 216, 343, 512, 729, 1000]\n"
     ]
    }
   ],
   "source": [
    "result2 = [ number ** 3 for number in numbers ]\n",
    "print(result2)"
   ]
  },
  {
   "cell_type": "code",
   "execution_count": 140,
   "id": "8400b46d-5345-4243-b6e8-e6353db595b5",
   "metadata": {},
   "outputs": [
    {
     "name": "stdout",
     "output_type": "stream",
     "text": [
      "[2, 4, 6, 8, 10]\n"
     ]
    }
   ],
   "source": [
    "# 짝수만 고르기\n",
    "even_list = []\n",
    "for number in numbers:\n",
    "    if number % 2 == 0:\n",
    "        even_list.append(number)\n",
    "print(even_list)"
   ]
  },
  {
   "cell_type": "code",
   "execution_count": 141,
   "id": "a66ba331-80b6-42a7-8ed9-887e1e9b83f2",
   "metadata": {},
   "outputs": [
    {
     "name": "stdout",
     "output_type": "stream",
     "text": [
      "[2, 4, 6, 8, 10]\n"
     ]
    }
   ],
   "source": [
    "# 짝수만 고르기 (list comprehension)\n",
    "even_list2 = [number for number in numbers if number % 2 == 0]\n",
    "print(even_list2)"
   ]
  },
  {
   "cell_type": "code",
   "execution_count": 142,
   "id": "ce18e701-aa20-4162-8dbb-7264679832a6",
   "metadata": {},
   "outputs": [],
   "source": [
    "# 모음 빼기\n",
    "words = 'my name is hong'\n",
    "vowels = 'aeiou'\n",
    "\n",
    "# => my nm s hng"
   ]
  },
  {
   "cell_type": "code",
   "execution_count": 170,
   "id": "58245c1a-4cd6-4621-8aaa-130ac6315474",
   "metadata": {},
   "outputs": [
    {
     "name": "stdout",
     "output_type": "stream",
     "text": [
      "my nm s hng\n"
     ]
    }
   ],
   "source": [
    "# 1. for문\n",
    "consonants = []\n",
    "\n",
    "for char in words:\n",
    "    if char not in vowels:\n",
    "        consonants.append(char)\n",
    "consonants =''.join(consonants)\n",
    "print(consonants)\n",
    "\n"
   ]
  },
  {
   "cell_type": "code",
   "execution_count": 178,
   "id": "bc5c9dd3-f9eb-47da-8b3c-c77067a4616d",
   "metadata": {},
   "outputs": [
    {
     "name": "stdout",
     "output_type": "stream",
     "text": [
      "my nm s hng\n"
     ]
    }
   ],
   "source": [
    "# remove 활용\n",
    "words = 'my name is hong'\n",
    "vowels = 'aeiou'\n",
    "\n",
    "\n",
    "for vowel in vowels:\n",
    "    words = words.replace(vowel, '')\n",
    "print(words)"
   ]
  },
  {
   "cell_type": "code",
   "execution_count": 188,
   "id": "806e8a8c-c7aa-4228-a592-1ba1f5416f8d",
   "metadata": {},
   "outputs": [
    {
     "name": "stdout",
     "output_type": "stream",
     "text": [
      "my nm s hng\n"
     ]
    }
   ],
   "source": [
    "# 2. list comprehension\n",
    "result2 = [char for char in words if char not in vowels]\n",
    "result2 = ''.join(result2)\n",
    "print(result2)\n",
    "\n",
    "# result2 = ''.join([char for char in words if char not in vowels])\n",
    "# print(result2)"
   ]
  },
  {
   "cell_type": "markdown",
   "id": "450cde24-85e5-4d9b-a0e8-3a14cab3328c",
   "metadata": {},
   "source": [
    "## 딕셔너리 메소드"
   ]
  },
  {
   "cell_type": "code",
   "execution_count": 214,
   "id": "f94c18f5-58f5-4e40-8831-e258989dab28",
   "metadata": {},
   "outputs": [],
   "source": [
    "info = {\n",
    "    'name': 'dohyeon',\n",
    "    'location': 'seoul',\n",
    "}"
   ]
  },
  {
   "cell_type": "code",
   "execution_count": 215,
   "id": "ea143b2d-8d69-41e4-9f87-1eed7fe58569",
   "metadata": {},
   "outputs": [
    {
     "name": "stdout",
     "output_type": "stream",
     "text": [
      "{'name': 'kim', 'location': 'seoul'}\n"
     ]
    }
   ],
   "source": [
    "info['name'] = 'kim'\n",
    "print(info)"
   ]
  },
  {
   "cell_type": "code",
   "execution_count": 217,
   "id": "01220fe8-dd60-4dff-a6d2-4b2cc50529dd",
   "metadata": {},
   "outputs": [
    {
     "name": "stdout",
     "output_type": "stream",
     "text": [
      "{'name': 'kim'}\n"
     ]
    },
    {
     "ename": "KeyError",
     "evalue": "'location'",
     "output_type": "error",
     "traceback": [
      "\u001b[1;31m---------------------------------------------------------------------------\u001b[0m",
      "\u001b[1;31mKeyError\u001b[0m                                  Traceback (most recent call last)",
      "Cell \u001b[1;32mIn[217], line 3\u001b[0m\n\u001b[0;32m      1\u001b[0m \u001b[38;5;66;03m# .pop(key[, default]) # pop은 지운 것을 알려줌, \u001b[39;00m\n\u001b[0;32m      2\u001b[0m \u001b[38;5;28mprint\u001b[39m(info)\n\u001b[1;32m----> 3\u001b[0m \u001b[38;5;28mprint\u001b[39m(\u001b[43minfo\u001b[49m\u001b[38;5;241;43m.\u001b[39;49m\u001b[43mpop\u001b[49m\u001b[43m(\u001b[49m\u001b[38;5;124;43m'\u001b[39;49m\u001b[38;5;124;43mlocation\u001b[39;49m\u001b[38;5;124;43m'\u001b[39;49m\u001b[43m)\u001b[49m)\n\u001b[0;32m      5\u001b[0m \u001b[38;5;28mprint\u001b[39m(info)\n\u001b[0;32m      6\u001b[0m \u001b[38;5;28mprint\u001b[39m(info\u001b[38;5;241m.\u001b[39mpop(\u001b[38;5;124m'\u001b[39m\u001b[38;5;124mlocation\u001b[39m\u001b[38;5;124m'\u001b[39m, \u001b[38;5;28;01mNone\u001b[39;00m)) \u001b[38;5;66;03m# 해당 값이 없을 때, 원하는 값을 내보낼 수 있음. 보통 None을 써서 분기처리할 수 있음\u001b[39;00m\n",
      "\u001b[1;31mKeyError\u001b[0m: 'location'"
     ]
    }
   ],
   "source": [
    "# .pop(key[, default]) # pop은 지운 것을 알려줌, \n",
    "print(info)\n",
    "print(info.pop('location'))\n",
    "\n",
    "print(info)\n",
    "print(info.pop('location', None)) # 해당 값이 없을 때, 원하는 값을 내보낼 수 있음. 보통 None을 써서 분기처리할 수 있음\n"
   ]
  },
  {
   "cell_type": "code",
   "execution_count": 218,
   "id": "9112e9ef-c40e-4ae5-a4a8-8e45e048dea5",
   "metadata": {},
   "outputs": [
    {
     "name": "stdout",
     "output_type": "stream",
     "text": [
      "{'name': 'park'}\n"
     ]
    }
   ],
   "source": [
    "# .update(key=value) 수정\n",
    "info.update(name='park')\n",
    "print(info)"
   ]
  },
  {
   "cell_type": "code",
   "execution_count": 221,
   "id": "2771112a-37f1-4b9c-bfa0-211c5de41f7b",
   "metadata": {},
   "outputs": [
    {
     "name": "stdout",
     "output_type": "stream",
     "text": [
      "park\n",
      "None\n",
      "해당키가 없습니다.\n"
     ]
    },
    {
     "ename": "KeyError",
     "evalue": "'phone'",
     "output_type": "error",
     "traceback": [
      "\u001b[1;31m---------------------------------------------------------------------------\u001b[0m",
      "\u001b[1;31mKeyError\u001b[0m                                  Traceback (most recent call last)",
      "Cell \u001b[1;32mIn[221], line 5\u001b[0m\n\u001b[0;32m      3\u001b[0m \u001b[38;5;28mprint\u001b[39m(info\u001b[38;5;241m.\u001b[39mget(\u001b[38;5;124m'\u001b[39m\u001b[38;5;124mphone\u001b[39m\u001b[38;5;124m'\u001b[39m))\n\u001b[0;32m      4\u001b[0m \u001b[38;5;28mprint\u001b[39m(info\u001b[38;5;241m.\u001b[39mget(\u001b[38;5;124m'\u001b[39m\u001b[38;5;124mphone\u001b[39m\u001b[38;5;124m'\u001b[39m, \u001b[38;5;124m'\u001b[39m\u001b[38;5;124m해당키가 없습니다.\u001b[39m\u001b[38;5;124m'\u001b[39m)) \u001b[38;5;66;03m#키에 해당하는 값이 없을경우 뒤에 내용을 return\u001b[39;00m\n\u001b[1;32m----> 5\u001b[0m \u001b[43minfo\u001b[49m\u001b[43m[\u001b[49m\u001b[38;5;124;43m'\u001b[39;49m\u001b[38;5;124;43mphone\u001b[39;49m\u001b[38;5;124;43m'\u001b[39;49m\u001b[43m]\u001b[49m\n",
      "\u001b[1;31mKeyError\u001b[0m: 'phone'"
     ]
    }
   ],
   "source": [
    "# .get(key[, default]) : 해당 키에 해당하는 밸류 가져옴\n",
    "print(info.get('name'))\n",
    "print(info.get('phone'))\n",
    "print(info.get('phone', '해당키가 없습니다.')) #키에 해당하는 값이 없을경우 뒤에 내용을 return\n",
    "info['phone']"
   ]
  },
  {
   "cell_type": "markdown",
   "id": "e15cda8a-f390-4aa8-b01f-2454851ab784",
   "metadata": {},
   "source": [
    "## dict comprehension"
   ]
  },
  {
   "cell_type": "code",
   "execution_count": 224,
   "id": "07cfbc17-fade-4fb4-af84-9e1666e43979",
   "metadata": {},
   "outputs": [
    {
     "name": "stdout",
     "output_type": "stream",
     "text": [
      "{1: 1, 2: 8, 3: 27, 4: 64, 5: 125, 6: 216, 7: 343, 8: 512, 9: 729, 10: 1000}\n"
     ]
    }
   ],
   "source": [
    "# for\n",
    "# {1: 1, 2: 8, 3: 9} \n",
    "result = {}\n",
    "numbers = range(1, 11)\n",
    "\n",
    "for number in numbers:\n",
    "    result[number] = number ** 3\n",
    "\n",
    "print(result)"
   ]
  },
  {
   "cell_type": "code",
   "execution_count": 226,
   "id": "9bdedefa-edd0-4855-bbe6-b93a6a7c0fca",
   "metadata": {},
   "outputs": [
    {
     "name": "stdout",
     "output_type": "stream",
     "text": [
      "{1: 1, 2: 8, 3: 27, 4: 64, 5: 125, 6: 216, 7: 343, 8: 512, 9: 729, 10: 1000}\n"
     ]
    }
   ],
   "source": [
    "# comprehension\n",
    "\n",
    "result2 = {number: number ** 3 for number in numbers}\n",
    "print(result2)"
   ]
  },
  {
   "cell_type": "code",
   "execution_count": 256,
   "id": "b96ffdde-2833-4493-9e81-f8b06eeb8411",
   "metadata": {},
   "outputs": [
    {
     "name": "stdout",
     "output_type": "stream",
     "text": [
      "{'서울': 100, '부산': 50, '광주': 80}\n"
     ]
    }
   ],
   "source": [
    "# dust 딕셔너리에서 값이 50이상인 것만 남기기\n",
    "dust = {\n",
    "    '서울': 100,\n",
    "    '대구': 30,\n",
    "    '부산': 50,\n",
    "    '광주': 80,\n",
    "    '제주': 20,\n",
    "}\n",
    "\n",
    "# result = {\n",
    "#     '서울': 100,\n",
    "#     '부산': 50,\n",
    "#     '광주': 80,\n",
    "# }\n",
    "\n",
    "result = {}\n",
    "for k in dust.keys():\n",
    "    if dust[k] >= 50:\n",
    "        result[k] = dust[k]\n",
    "print(result)\n",
    "\n",
    "# 강사님 코드\n",
    "# result = {}\n",
    "# for k, v in dust.items():\n",
    "#     if v >= 50:\n",
    "#         result[k] = v\n",
    "# print(result)"
   ]
  },
  {
   "cell_type": "code",
   "execution_count": 253,
   "id": "48bb3de5-1432-49d2-a67b-6e2d221deb56",
   "metadata": {},
   "outputs": [
    {
     "name": "stdout",
     "output_type": "stream",
     "text": [
      "{'서울': '나쁨', '부산': '나쁨', '광주': '나쁨'}\n"
     ]
    }
   ],
   "source": [
    "# 2. comp\n",
    "result2 = { k: '나쁨' for k, v in dust.items() if v >=50 }\n",
    "print(result2)"
   ]
  },
  {
   "cell_type": "markdown",
   "id": "597932c5-10b1-4318-9017-7e4dcf785107",
   "metadata": {},
   "source": [
    "## 세트 메소드"
   ]
  },
  {
   "cell_type": "code",
   "execution_count": 248,
   "id": "704167de-e9ba-46c5-b253-175c3893e2a6",
   "metadata": {},
   "outputs": [],
   "source": [
    "fruits = {'apple', 'banana', 'melon'}"
   ]
  },
  {
   "cell_type": "code",
   "execution_count": 251,
   "id": "73d7f20b-20b7-4b99-b161-52d349dd89ec",
   "metadata": {},
   "outputs": [
    {
     "name": "stdout",
     "output_type": "stream",
     "text": [
      "{'banana', 'watermelon', 'apple', 'melon'}\n",
      "{'banana', 'watermelon', 'apple', 'melon'}\n"
     ]
    }
   ],
   "source": [
    "# .add(x)\n",
    "fruits.add('watermelon')\n",
    "print(fruits)\n",
    "fruits.add('watermelon')\n",
    "print(fruits)"
   ]
  },
  {
   "cell_type": "code",
   "execution_count": 258,
   "id": "e83c2de3-91c8-4c65-980c-876b918c4ad6",
   "metadata": {},
   "outputs": [
    {
     "name": "stdout",
     "output_type": "stream",
     "text": [
      "{'grape', 'orange', 'r', 'p', 'melon', 'e', 'g', 'watermelon', 'apple', 'banana', 'a'}\n"
     ]
    }
   ],
   "source": [
    "# .update() : add와 비슷하지만 입력한 시퀀스 데이터를 하나하나 나누어서 추가함(순서x)\n",
    "# fruits.update('grape')\n",
    "# print(fruits)\n",
    "fruits.update({'grape', 'orange'}) # 확장의 개념, 여러개를 더해줄 때 사용\n",
    "print(fruits)"
   ]
  },
  {
   "cell_type": "code",
   "execution_count": 259,
   "id": "34993df1-5fe9-4d52-87cd-9411ac8d567a",
   "metadata": {},
   "outputs": [
    {
     "name": "stdout",
     "output_type": "stream",
     "text": [
      "{'grape', 'r', 'p', 'melon', 'e', 'g', 'watermelon', 'apple', 'banana', 'a'}\n"
     ]
    }
   ],
   "source": [
    "# .remove(x)\n",
    "fruits.remove('orange')\n",
    "print(fruits)"
   ]
  },
  {
   "cell_type": "code",
   "execution_count": 262,
   "id": "48ff643f-8038-45c4-b058-53113bcaf922",
   "metadata": {},
   "outputs": [
    {
     "name": "stdout",
     "output_type": "stream",
     "text": [
      "{'melon', 'e', 'g', 'watermelon', 'apple', 'banana', 'a'}\n"
     ]
    }
   ],
   "source": [
    "# .pop() 내부적으로 설정된 순서대로 빠짐 (거의 랜덤)\n",
    "fruits.pop()\n",
    "print(fruits)"
   ]
  },
  {
   "cell_type": "markdown",
   "id": "a54b6e77-5954-4f74-9bb2-e5a6d77d5595",
   "metadata": {},
   "source": [
    "### map, filter, zip"
   ]
  },
  {
   "cell_type": "markdown",
   "id": "24773260-d599-40a8-bea9-764fcf97de76",
   "metadata": {},
   "source": [
    "- map(function, iterable)"
   ]
  },
  {
   "cell_type": "code",
   "execution_count": 264,
   "id": "84a906dd-4e57-42a4-a7a7-2f8ca74f8118",
   "metadata": {},
   "outputs": [
    {
     "name": "stdout",
     "output_type": "stream",
     "text": [
      "<map object at 0x00000278AB4982E0>\n",
      "['1', '2', '3']\n"
     ]
    }
   ],
   "source": [
    "a = [1, 2, 3]\n",
    "number_str = map(str, a) # map(func, sequence object) : sequence 반복하며 function처리됨\n",
    "print(number_str) # lazy하다. func 연산 자체를 object에 저장, 리스트 등에 할당해야지 값이 나옴\n",
    "print(list(number_str))\n"
   ]
  },
  {
   "cell_type": "code",
   "execution_count": 270,
   "id": "0b01f929-0d52-457c-8f77-bcdfcfe0c225",
   "metadata": {},
   "outputs": [
    {
     "name": "stdout",
     "output_type": "stream",
     "text": [
      "[1, 8, 27]\n"
     ]
    }
   ],
   "source": [
    "result = []\n",
    "for i in a:\n",
    "    result.append(i ** 3)\n",
    "print(result)"
   ]
  },
  {
   "cell_type": "code",
   "execution_count": 268,
   "id": "5771965a-5c76-4f99-99a4-3aba80458750",
   "metadata": {},
   "outputs": [
    {
     "name": "stdout",
     "output_type": "stream",
     "text": [
      "125\n",
      "1000\n"
     ]
    }
   ],
   "source": [
    "def cube(x): \n",
    "    return x ** 3\n",
    "    \n",
    "# def cube(x): return x ** 3\n",
    "\n",
    "print(cube(5))\n",
    "print(cube(10))"
   ]
  },
  {
   "cell_type": "code",
   "execution_count": 272,
   "id": "c9bb93de-68a6-45c6-bf57-6385e88de00f",
   "metadata": {},
   "outputs": [
    {
     "name": "stdout",
     "output_type": "stream",
     "text": [
      "[1, 8, 27]\n"
     ]
    }
   ],
   "source": [
    "result2 = map(cube, a)\n",
    "print(list(result2))"
   ]
  },
  {
   "cell_type": "code",
   "execution_count": 279,
   "id": "f8c20bb6-66fd-455d-89c6-707e9a14e617",
   "metadata": {},
   "outputs": [
    {
     "name": "stdout",
     "output_type": "stream",
     "text": [
      "[1, 3, 5, 7, 9]\n"
     ]
    }
   ],
   "source": [
    "a = '1 3 5 7 9'\n",
    "# numbers = [1, 3, 5, 7, 9]\n",
    "numbers = list(map(int, a.split()))\n",
    "print(numbers)"
   ]
  },
  {
   "cell_type": "markdown",
   "id": "bc0d4ff6-a99b-4834-bd9c-96738b1feb61",
   "metadata": {},
   "source": [
    "- filter(function, iterable)\n",
    "filter에 들어가는 function은 T/F를 반환해야 합니다."
   ]
  },
  {
   "cell_type": "code",
   "execution_count": 283,
   "id": "41905f79-45b7-4ec8-ac46-7cae846bcdc4",
   "metadata": {},
   "outputs": [
    {
     "name": "stdout",
     "output_type": "stream",
     "text": [
      "True\n",
      "False\n"
     ]
    }
   ],
   "source": [
    "def is_odd(x):\n",
    "    # if x % 2 == 1:\n",
    "    #     return True\n",
    "    # else:\n",
    "    #     return False\n",
    "\n",
    "#     return bool(x % 2)\n",
    "print(is_odd(5))\n",
    "print(is_odd(10))"
   ]
  },
  {
   "cell_type": "code",
   "execution_count": 284,
   "id": "0ed4364d-97e5-4635-b344-32964ff9e2aa",
   "metadata": {},
   "outputs": [],
   "source": [
    "numbers = [1, 2, 3, 4, 5]\n"
   ]
  },
  {
   "cell_type": "code",
   "execution_count": 285,
   "id": "59b844f9-4806-469c-b483-c4faecfceed9",
   "metadata": {},
   "outputs": [
    {
     "name": "stdout",
     "output_type": "stream",
     "text": [
      "[1, 3, 5]\n"
     ]
    }
   ],
   "source": [
    "# for문\n",
    "result = []\n",
    "\n",
    "for number in numbers:\n",
    "    if is_odd(number):\n",
    "        result.append(number)\n",
    "print(result)\n",
    "        "
   ]
  },
  {
   "cell_type": "code",
   "execution_count": 286,
   "id": "a7771f39-83fb-4ab3-b1dd-fd1df97801e4",
   "metadata": {},
   "outputs": [
    {
     "name": "stdout",
     "output_type": "stream",
     "text": [
      "[1, 3, 5]\n"
     ]
    }
   ],
   "source": [
    "result2 = filter(is_odd, numbers)\n",
    "print(list(result2))"
   ]
  },
  {
   "cell_type": "markdown",
   "id": "aa1071c3-91c8-4e39-9177-41533f796ebe",
   "metadata": {},
   "source": [
    "- zip\n",
    "    - 두개의 리스트를 쌍으로 사용할때 이용\n",
    "    - 갯수가 맞아야함\n",
    "    - 같은 인덱스의 리스트 값들을 튜플로 내어줌 "
   ]
  },
  {
   "cell_type": "code",
   "execution_count": 287,
   "id": "eb0b1ca3-ed31-46ef-bccf-3018ac845069",
   "metadata": {},
   "outputs": [],
   "source": [
    "a = [1, 2, 3]\n",
    "b = [100, 200, 300]"
   ]
  },
  {
   "cell_type": "code",
   "execution_count": 288,
   "id": "9a39d1bd-45ad-42dc-a416-aae810137491",
   "metadata": {},
   "outputs": [
    {
     "name": "stdout",
     "output_type": "stream",
     "text": [
      "<zip object at 0x00000278AABAA2C0>\n",
      "[(1, 100), (2, 200), (3, 300)]\n"
     ]
    }
   ],
   "source": [
    "result = zip(a, b)\n",
    "print(result)\n",
    "print(list(result))"
   ]
  },
  {
   "cell_type": "code",
   "execution_count": null,
   "id": "7fd32db4-02a4-4fe9-b82d-0a389a189344",
   "metadata": {},
   "outputs": [],
   "source": []
  }
 ],
 "metadata": {
  "kernelspec": {
   "display_name": "Python 3 (ipykernel)",
   "language": "python",
   "name": "python3"
  },
  "language_info": {
   "codemirror_mode": {
    "name": "ipython",
    "version": 3
   },
   "file_extension": ".py",
   "mimetype": "text/x-python",
   "name": "python",
   "nbconvert_exporter": "python",
   "pygments_lexer": "ipython3",
   "version": "3.11.5"
  }
 },
 "nbformat": 4,
 "nbformat_minor": 5
}

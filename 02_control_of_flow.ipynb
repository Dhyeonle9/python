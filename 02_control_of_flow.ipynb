{
 "cells": [
  {
   "cell_type": "markdown",
   "id": "7ae5e0e6-1444-4f8b-b3fd-d096b9814f6a",
   "metadata": {},
   "source": [
    "# 제어문"
   ]
  },
  {
   "cell_type": "markdown",
   "id": "6e98b4f0-42d0-4cb3-ad91-2e08ed358994",
   "metadata": {},
   "source": [
    "## 조건문 (if문)\n",
    "\n",
    "```python\n",
    "if <조건식>:\n",
    "    if의 조건식이 참인 경우 실행하는 코드\n",
    "else:\n",
    "    if의 조건식이 거짓인 경우 실행하는 코드\n",
    "```\n",
    "\n",
    "1. `if` 문은 반드시 참/거짓을 판단할 수 있는 `조건식`과 함께 사용한다.\n",
    "2. `조건식` 이 참인 경우 `:` 이후의 문장을 실행한다.\n",
    "3. `조건식` 이 거짓인 경우 : `else:` 이후의 문장을 실행한다."
   ]
  },
  {
   "cell_type": "code",
   "execution_count": 3,
   "id": "353b0636-b27c-4efa-9d59-b05c6c74f238",
   "metadata": {},
   "outputs": [
    {
     "name": "stdin",
     "output_type": "stream",
     "text": [
      " 12/12\n"
     ]
    },
    {
     "name": "stdout",
     "output_type": "stream",
     "text": [
      "크리스마스가 아닙니다.\n"
     ]
    }
   ],
   "source": [
    "my_string = input()\n",
    "\n",
    "if my_string == '12/25':\n",
    "    print('크리스마스입니다.')\n",
    "else:\n",
    "    print('크리스마스가 아닙니다.')"
   ]
  },
  {
   "cell_type": "code",
   "execution_count": 11,
   "id": "630ac67e-5216-419f-bdc5-2ae53ad41794",
   "metadata": {},
   "outputs": [
    {
     "name": "stdin",
     "output_type": "stream",
     "text": [
      "숫자를 입력해주세요 :  123\n"
     ]
    },
    {
     "name": "stdout",
     "output_type": "stream",
     "text": [
      "홀수입니다.\n"
     ]
    }
   ],
   "source": [
    "num = input('숫자를 입력해주세요 : ')\n",
    "num = int(num)\n",
    "\n",
    "if num % 2 == 0:\n",
    "    print('짝수입니다.')\n",
    "else:\n",
    "    print('홀수입니다.')"
   ]
  },
  {
   "cell_type": "code",
   "execution_count": 12,
   "id": "d95d9e8a-2ec9-4317-8fa1-d83fe4f55482",
   "metadata": {},
   "outputs": [
    {
     "name": "stdin",
     "output_type": "stream",
     "text": [
      "숫자를 입력해주세요 :  2\n"
     ]
    },
    {
     "name": "stdout",
     "output_type": "stream",
     "text": [
      "짝수입니다.\n"
     ]
    }
   ],
   "source": [
    "num = input('숫자를 입력해주세요 : ')\n",
    "num = int(num)\n",
    "\n",
    "if num % 2 == 1:\n",
    "    print('홀수입니다.')\n",
    "else:\n",
    "    print('짝수입니다.')"
   ]
  },
  {
   "cell_type": "code",
   "execution_count": null,
   "id": "9e1ea337-21de-4200-ac09-db481d0b47e2",
   "metadata": {},
   "outputs": [],
   "source": [
    "# num을 2로 나눈 나머지는 0, 1 두가지 경우가 있다.\n",
    "# if 조건식에 0, 1는 자동 형변환이 일어나 False/True로 변환된다.\n",
    "\n",
    "num = input('숫자를 입력해주세요 : ')\n",
    "num = int(num)\n",
    "\n",
    "if num % 2: # 2로 나눈 나머지 == 1 == True (1)\n",
    "    print('홀수입니다.')\n",
    "else:\n",
    "    print('짝수입니다.')"
   ]
  },
  {
   "cell_type": "markdown",
   "id": "3ea3371b-6c79-4f2c-8b9e-6877649e6541",
   "metadata": {},
   "source": [
    "### elif\n",
    "\n",
    "```python\n",
    "if <조건식>:\n",
    "    if 조건이 참인 경우 실행\n",
    "elif <조건식>:\n",
    "    elif 조건이 참인 경우 실행\n",
    "...\n",
    "else:\n",
    "    위의 조건식에 하나도 부합하지 않는 경우 실행\n",
    "```"
   ]
  },
  {
   "cell_type": "code",
   "execution_count": 20,
   "id": "3d7c9366-bd07-4842-b72a-f296777dc4a3",
   "metadata": {},
   "outputs": [
    {
     "name": "stdin",
     "output_type": "stream",
     "text": [
      "점수를 입력해주세요:  97\n"
     ]
    },
    {
     "name": "stdout",
     "output_type": "stream",
     "text": [
      "A\n",
      "good\n"
     ]
    }
   ],
   "source": [
    "score = int(input('점수를 입력해주세요: '))\n",
    "\n",
    "# 90점이상 A (95점이상이라면 good 추가)\n",
    "# 80점이상 B\n",
    "# 70점이상 C\n",
    "# 나머지 F\n",
    "if 0<=score<=100:\n",
    "    \n",
    "    if score>=90:\n",
    "        print('A')\n",
    "        if score>=95:\n",
    "            print('good')\n",
    "    elif score>=80:\n",
    "        print('B')\n",
    "    elif score>=70:\n",
    "        print('C')\n",
    "    else:\n",
    "        print('F')\n",
    "else:\n",
    "    print('잘못된 값입니다.')"
   ]
  },
  {
   "cell_type": "markdown",
   "id": "36e88176-2210-4382-b276-653bcfa31164",
   "metadata": {},
   "source": [
    "### 조건표현식\n",
    "```python\n",
    "true_value if <조건식> else false_value\n",
    "```"
   ]
  },
  {
   "cell_type": "code",
   "execution_count": 3,
   "id": "a0c96fa9-0037-406b-a16d-561042004791",
   "metadata": {},
   "outputs": [
    {
     "name": "stdout",
     "output_type": "stream",
     "text": [
      "True\n"
     ]
    }
   ],
   "source": [
    "print('True') if 1 < 2 else print('False')"
   ]
  },
  {
   "cell_type": "code",
   "execution_count": 6,
   "id": "4e223aa5-4479-4a74-97ae-35037c37f246",
   "metadata": {},
   "outputs": [
    {
     "name": "stdout",
     "output_type": "stream",
     "text": [
      "False\n"
     ]
    }
   ],
   "source": [
    "if 1 < 0:\n",
    "    print('True')\n",
    "else:\n",
    "    print('False')"
   ]
  },
  {
   "cell_type": "code",
   "execution_count": 7,
   "id": "f2c75a84-90e7-48dd-bbeb-5f3a3b21f34b",
   "metadata": {},
   "outputs": [
    {
     "name": "stdout",
     "output_type": "stream",
     "text": [
      "5\n"
     ]
    }
   ],
   "source": [
    "num = 5\n",
    "\n",
    "if num >= 0:\n",
    "    value = num\n",
    "else:\n",
    "    value = 0\n",
    "\n",
    "print(value)"
   ]
  },
  {
   "cell_type": "code",
   "execution_count": 8,
   "id": "ebee9e1b-209e-4c4e-94c4-a896d51d374e",
   "metadata": {},
   "outputs": [
    {
     "name": "stdout",
     "output_type": "stream",
     "text": [
      "5\n"
     ]
    }
   ],
   "source": [
    "num = 5\n",
    "value = num if num >= 0 else 0\n",
    "print(value)"
   ]
  },
  {
   "cell_type": "code",
   "execution_count": 9,
   "id": "da490a6e-4305-4856-b230-f40b9af1dd96",
   "metadata": {},
   "outputs": [
    {
     "name": "stdout",
     "output_type": "stream",
     "text": [
      "짝수\n"
     ]
    }
   ],
   "source": [
    "num = 10\n",
    "if num % 2 == 1:\n",
    "    result = '홀수'\n",
    "else:\n",
    "    result = '짝수'\n",
    "print(result)"
   ]
  },
  {
   "cell_type": "code",
   "execution_count": 11,
   "id": "bad480e7-eeee-445f-817d-e69a158185a3",
   "metadata": {},
   "outputs": [
    {
     "name": "stdout",
     "output_type": "stream",
     "text": [
      "홀수\n"
     ]
    }
   ],
   "source": [
    "num = 5\n",
    "result = '홀수' if num % 2 == 1 else '짝수'\n",
    "print(result)"
   ]
  },
  {
   "cell_type": "markdown",
   "id": "e143d8e3-4759-4334-91d8-fbdffd9a8dec",
   "metadata": {},
   "source": [
    "## 반복문\n",
    "\n",
    "### while문\n",
    "```python\n",
    "while <조건식>:\n",
    "    실행할 코드\n",
    "```"
   ]
  },
  {
   "cell_type": "code",
   "execution_count": 13,
   "id": "9bf2c81c-1b57-44a4-af54-df39d053444e",
   "metadata": {},
   "outputs": [
    {
     "name": "stdout",
     "output_type": "stream",
     "text": [
      "0\n",
      "1\n",
      "2\n",
      "3\n",
      "4\n"
     ]
    }
   ],
   "source": [
    "a = 0\n",
    "\n",
    "while a < 5:\n",
    "    print(a)\n",
    "    a += 1\n",
    "    # a = a + 1"
   ]
  },
  {
   "cell_type": "code",
   "execution_count": 15,
   "id": "946808cf-90df-423f-9153-05072e19d5f8",
   "metadata": {},
   "outputs": [
    {
     "name": "stdin",
     "output_type": "stream",
     "text": [
      "안녕이라고 해줘:  안녕\n"
     ]
    }
   ],
   "source": [
    "greeting = ''\n",
    "\n",
    "while greeting != '안녕':\n",
    "    greeting = input('안녕이라고 해줘: ')"
   ]
  },
  {
   "cell_type": "markdown",
   "id": "1493b700-9a11-4ce0-bd7a-7c12be500b75",
   "metadata": {},
   "source": [
    "### for문\n",
    "정해진 범위 내의 반복\n",
    "```python\n",
    "for variable in sequence:\n",
    "    실행할 코드\n",
    "```"
   ]
  },
  {
   "cell_type": "code",
   "execution_count": 22,
   "id": "7d3dff08-326c-4a8f-b32e-625eabe29ae0",
   "metadata": {},
   "outputs": [
    {
     "name": "stdout",
     "output_type": "stream",
     "text": [
      "[2, 3, 4, 5]\n",
      "[3, 4, 5]\n",
      "[4, 5]\n",
      "[5]\n",
      "[]\n"
     ]
    }
   ],
   "source": [
    "numbers = [1, 2, 3, 4, 5]\n",
    "# number라는 변수를 만들어 numbers의 각 값을 할당하여 사용\n",
    "for number in numbers:\n",
    "    print(numbers[number:])\n",
    "# 자주쓰는 형태"
   ]
  },
  {
   "cell_type": "code",
   "execution_count": 24,
   "id": "6345fde9-1e32-4d40-bf92-eb0a231621ee",
   "metadata": {},
   "outputs": [
    {
     "name": "stdin",
     "output_type": "stream",
     "text": [
      "단어를 입력해주세요:  apple\n"
     ]
    },
    {
     "name": "stdout",
     "output_type": "stream",
     "text": [
      "a\n",
      "p\n",
      "p\n",
      "l\n",
      "e\n"
     ]
    }
   ],
   "source": [
    "word = input('단어를 입력해주세요: ')\n",
    "\n",
    "for char in word:\n",
    "    print(char)\n",
    "# 자주쓰는 형태"
   ]
  },
  {
   "cell_type": "code",
   "execution_count": 25,
   "id": "dea66d8f-da0b-4feb-8c8d-0fd23f800bc0",
   "metadata": {},
   "outputs": [
    {
     "name": "stdout",
     "output_type": "stream",
     "text": [
      "0\n",
      "1\n",
      "2\n",
      "3\n",
      "4\n"
     ]
    }
   ],
   "source": [
    "for i in range(5):\n",
    "    print(i)\n",
    "# 자주쓰는 형태"
   ]
  },
  {
   "cell_type": "code",
   "execution_count": 26,
   "id": "19a1c2b0-9e04-4456-af37-9ef27055d910",
   "metadata": {},
   "outputs": [
    {
     "name": "stdout",
     "output_type": "stream",
     "text": [
      "1\n",
      "2\n",
      "3\n",
      "4\n",
      "5\n"
     ]
    }
   ],
   "source": [
    "for i in (1, 2, 3, 4, 5):\n",
    "    print(i)"
   ]
  },
  {
   "cell_type": "code",
   "execution_count": 42,
   "id": "75fbe77f-41b0-4b25-a161-ec356b529d51",
   "metadata": {},
   "outputs": [
    {
     "name": "stdout",
     "output_type": "stream",
     "text": [
      "1\n",
      "3\n",
      "5\n",
      "7\n",
      "9\n",
      "11\n",
      "13\n",
      "15\n",
      "17\n",
      "19\n",
      "21\n",
      "23\n",
      "25\n",
      "27\n",
      "29\n"
     ]
    }
   ],
   "source": [
    "# 1. 1~30까지 숫자 중에서 홀수를 출력\n",
    "my_range= range(1,31)\n",
    "\n",
    "for i in my_range:\n",
    "    if i % 2:\n",
    "        print(i)"
   ]
  },
  {
   "cell_type": "code",
   "execution_count": 44,
   "id": "0afa3e2e-afee-4f48-85c6-bb8f470db197",
   "metadata": {},
   "outputs": [
    {
     "name": "stdout",
     "output_type": "stream",
     "text": [
      "[1, 3, 5, 7, 9, 11, 13, 15, 17, 19, 21, 23, 25, 27, 29]\n"
     ]
    }
   ],
   "source": [
    "# 2. 1~30중에서 홀수를 모아서 리스트로 출력\n",
    "\n",
    "my_list = []\n",
    "my_range = range(1,31): #for i in range(31):\n",
    "for i in my_range:\n",
    "    if i % 2:\n",
    "        my_list.append(i)\n",
    "        \n",
    "print(my_list)\n"
   ]
  },
  {
   "cell_type": "code",
   "execution_count": 48,
   "id": "68110ff4-61b8-47b4-9995-574728d43ace",
   "metadata": {},
   "outputs": [
    {
     "name": "stdout",
     "output_type": "stream",
     "text": [
      "[1, 3, 5, 7, 9, 11, 13, 15, 17, 19, 21, 23, 25, 27, 29]\n"
     ]
    }
   ],
   "source": [
    "# 2. 1~30중에서 홀수를 모아서 리스트로 출력\n",
    "\n",
    "my_range= range(31)\n",
    "result = []\n",
    "\n",
    "for i in my_range:\n",
    "    if i % 2 == 1:\n",
    "        #print(i)\n",
    "        result.append(i)\n",
    "print(result)"
   ]
  },
  {
   "cell_type": "code",
   "execution_count": 52,
   "id": "0202c4ea-5bd4-4077-948d-fbcba687ef70",
   "metadata": {},
   "outputs": [
    {
     "name": "stdout",
     "output_type": "stream",
     "text": [
      "라면\n",
      "김밥\n",
      "떡볶이\n",
      "돈까스\n"
     ]
    }
   ],
   "source": [
    "menus = ['라면', '김밥', '떡볶이', '돈까스']\n",
    "\n",
    "for menu in menus:\n",
    "    print(menu)"
   ]
  },
  {
   "cell_type": "code",
   "execution_count": 53,
   "id": "940888fb-c6c8-4999-b903-26d12415355f",
   "metadata": {},
   "outputs": [
    {
     "name": "stdout",
     "output_type": "stream",
     "text": [
      "라면\n",
      "김밥\n",
      "떡볶이\n"
     ]
    }
   ],
   "source": [
    "for i in range(3):\n",
    "    print(menus[i])\n",
    "# range를 한정짓게 되어 리스트가 추가되면 반영하지 못함"
   ]
  },
  {
   "cell_type": "code",
   "execution_count": 56,
   "id": "fff435bd-4c51-4047-a349-6075f0eadcda",
   "metadata": {},
   "outputs": [
    {
     "name": "stdout",
     "output_type": "stream",
     "text": [
      "라면\n",
      "김밥\n",
      "떡볶이\n",
      "돈까스\n"
     ]
    }
   ],
   "source": [
    "for i in range(len(menus)):\n",
    "    print(menus[i])\n",
    "# len 함수를 이용하여, 리스트 길이를 반영하여 반복하면 리스트가 추가되어도 반영가능"
   ]
  },
  {
   "cell_type": "code",
   "execution_count": 60,
   "id": "92b4fdb0-4165-4f6b-93de-a94ccf621dd5",
   "metadata": {},
   "outputs": [
    {
     "name": "stdout",
     "output_type": "stream",
     "text": [
      "(0, '라면')\n",
      "(1, '김밥')\n",
      "(2, '떡볶이')\n",
      "(3, '돈까스')\n"
     ]
    }
   ],
   "source": [
    "for item in enumerate(menus):\n",
    "    print(item)\n",
    "# 튜플형태로, (index, 내용)으로 묶어져 나옴"
   ]
  },
  {
   "cell_type": "code",
   "execution_count": 64,
   "id": "45dacaef-ccbe-4c6e-9c06-fda7a6c3e763",
   "metadata": {},
   "outputs": [
    {
     "name": "stdout",
     "output_type": "stream",
     "text": [
      "0 라면\n",
      "1 김밥\n",
      "2 떡볶이\n",
      "3 돈까스\n"
     ]
    }
   ],
   "source": [
    "for index, menu in enumerate(menus):\n",
    "    print(index, menu)"
   ]
  },
  {
   "cell_type": "code",
   "execution_count": 68,
   "id": "9295395a-e90f-4525-8b3e-af0205bb6a53",
   "metadata": {},
   "outputs": [
    {
     "name": "stdout",
     "output_type": "stream",
     "text": [
      "(0, '라면')\n",
      "(1, '김밥')\n",
      "(2, '떡볶이')\n",
      "(3, '돈까스')\n"
     ]
    }
   ],
   "source": [
    "for (index, menu) in enumerate(menus):\n",
    "    print((index, menu))"
   ]
  },
  {
   "cell_type": "markdown",
   "id": "f4dea4c8-df2d-4485-89ab-1e6168af3ee5",
   "metadata": {},
   "source": [
    "#### dictionary 반복\n",
    "\n",
    " 1. for key in dict:\n",
    " 2. for key in dict.keys():\n",
    " 3. for value in dict.values():\n",
    " 4. for key, value in dict.items():"
   ]
  },
  {
   "cell_type": "code",
   "execution_count": 70,
   "id": "1b6700f8-a0b9-4c13-aebe-87e37c9dd683",
   "metadata": {},
   "outputs": [],
   "source": [
    "info = {\n",
    "    'name': 'dohyeon',\n",
    "    'location': 'seoul',\n",
    "    'phone': '010-1234-1234',\n",
    "}"
   ]
  },
  {
   "cell_type": "code",
   "execution_count": 72,
   "id": "23a7454f-9349-4150-8a51-eacc1f8f7cd1",
   "metadata": {},
   "outputs": [
    {
     "name": "stdout",
     "output_type": "stream",
     "text": [
      "name\n",
      "dohyeon\n",
      "location\n",
      "seoul\n",
      "phone\n",
      "010-1234-1234\n"
     ]
    }
   ],
   "source": [
    "for key in info:\n",
    "    print(key)\n",
    "    print(info[key])"
   ]
  },
  {
   "cell_type": "code",
   "execution_count": 74,
   "id": "a3f87141-3a9a-4b7e-ba10-efac26e92c46",
   "metadata": {},
   "outputs": [],
   "source": [
    "blood_type = {\n",
    "    'A': 5,\n",
    "    'B': 4,\n",
    "    'O': 2,\n",
    "    'AB': 3,\n",
    "}"
   ]
  },
  {
   "cell_type": "code",
   "execution_count": 76,
   "id": "290777e8-e56e-403a-93b7-fa2fd0002645",
   "metadata": {},
   "outputs": [
    {
     "name": "stdout",
     "output_type": "stream",
     "text": [
      "혈액형 목록은 다음과 같습니다.\n",
      "A\n",
      "B\n",
      "O\n",
      "AB\n"
     ]
    }
   ],
   "source": [
    "print('혈액형 목록은 다음과 같습니다.')\n",
    "for key in blood_type:\n",
    "    print(key)"
   ]
  },
  {
   "cell_type": "code",
   "execution_count": 77,
   "id": "e6fa9239-22fc-441b-9ebb-8ffa6212093e",
   "metadata": {},
   "outputs": [
    {
     "name": "stdout",
     "output_type": "stream",
     "text": [
      "혈액형 목록은 다음과 같습니다.\n",
      "A\n",
      "B\n",
      "O\n",
      "AB\n"
     ]
    }
   ],
   "source": [
    "print('혈액형 목록은 다음과 같습니다.')\n",
    "for key in blood_type.keys():\n",
    "    print(key)"
   ]
  },
  {
   "cell_type": "code",
   "execution_count": 100,
   "id": "26c6a714-8534-4bad-9817-d621cb5840ae",
   "metadata": {},
   "outputs": [
    {
     "name": "stdout",
     "output_type": "stream",
     "text": [
      "<class 'dict_keys'>\n"
     ]
    }
   ],
   "source": [
    "a = blood_type.keys()\n",
    "\n",
    "print(type(a))"
   ]
  },
  {
   "cell_type": "code",
   "execution_count": 101,
   "id": "3c10dffe-e3e0-48c4-8301-d1ea8614ae51",
   "metadata": {},
   "outputs": [
    {
     "name": "stdout",
     "output_type": "stream",
     "text": [
      "총 인원은 14명입니다.\n"
     ]
    }
   ],
   "source": [
    "result = 0\n",
    "for value in blood_type.values():\n",
    "    result += value\n",
    "print(f'총 인원은 {result}명입니다.')"
   ]
  },
  {
   "cell_type": "code",
   "execution_count": 105,
   "id": "a45d9de2-7b2f-4b47-b4bc-dc07f52af3dc",
   "metadata": {},
   "outputs": [
    {
     "name": "stdout",
     "output_type": "stream",
     "text": [
      "A형은 5명입니다.\n",
      "B형은 4명입니다.\n",
      "O형은 2명입니다.\n",
      "AB형은 3명입니다.\n"
     ]
    }
   ],
   "source": [
    "for key, value in blood_type.items():\n",
    "    print(f'{key}형은 {value}명입니다.')\n"
   ]
  },
  {
   "cell_type": "markdown",
   "id": "8e8f3a52-0793-4607-bb4b-06cea3a6a6e1",
   "metadata": {},
   "source": [
    "### break\n",
    "반복문을 종료시키는 키워드"
   ]
  },
  {
   "cell_type": "code",
   "execution_count": 107,
   "id": "b1081e88-716a-4679-88c3-8a1f4199f078",
   "metadata": {},
   "outputs": [
    {
     "name": "stdout",
     "output_type": "stream",
     "text": [
      "0\n",
      "1\n",
      "2\n",
      "3\n",
      "4\n",
      "5\n",
      "6\n",
      "7\n",
      "8\n",
      "9\n",
      "10\n",
      "11\n",
      "10넘었어!!\n"
     ]
    }
   ],
   "source": [
    "for i in range(100):\n",
    "    print(i)\n",
    "    if i > 10: \n",
    "        print('10넘었어!!')\n",
    "        break # break는 if문 안에 있지만 for문과 연결되어 가장 가까이 있는 for문을 종료시킴"
   ]
  },
  {
   "cell_type": "code",
   "execution_count": 113,
   "id": "ae78e86a-e88c-400b-beda-9c6ac1871ad3",
   "metadata": {},
   "outputs": [
    {
     "name": "stdout",
     "output_type": "stream",
     "text": [
      "보리\n",
      "보리\n",
      "보리\n",
      "보리\n",
      "쌀\n",
      "잡았다\n"
     ]
    }
   ],
   "source": [
    "rice = ['보리', '보리', '보리', '보리', '쌀', '보리', '보리', '보리']\n",
    "# 보리 보리 보리 쌀 잡았다!\n",
    "for i, menu in enumerate(rice):\n",
    "    print(menu)\n",
    "    if menu == '쌀':\n",
    "        print('잡았다')\n",
    "        break"
   ]
  },
  {
   "cell_type": "code",
   "execution_count": 114,
   "id": "33d84423-d552-4881-96d6-58d9ceec92e2",
   "metadata": {},
   "outputs": [
    {
     "name": "stdout",
     "output_type": "stream",
     "text": [
      "보리\n",
      "보리\n",
      "보리\n",
      "보리\n",
      "쌀\n",
      "잡았다\n"
     ]
    }
   ],
   "source": [
    "# 강사님 solution\n",
    "\n",
    "for r in rice:\n",
    "    print(r)\n",
    "    if r == '쌀':\n",
    "        print('잡았다')\n",
    "        break"
   ]
  },
  {
   "cell_type": "markdown",
   "id": "c319b7ed-7b0a-4b79-a193-ad52803d98b5",
   "metadata": {},
   "source": [
    "### continue\n",
    "continue 이후의 코드를 실행하지 않고 다음 반복을 실행"
   ]
  },
  {
   "cell_type": "code",
   "execution_count": 116,
   "id": "da20792f-2f19-4c9d-8fb1-54becbfd3e43",
   "metadata": {},
   "outputs": [
    {
     "name": "stdout",
     "output_type": "stream",
     "text": [
      "0\n",
      "2\n",
      "4\n",
      "6\n",
      "8\n"
     ]
    }
   ],
   "source": [
    "for i in range(10):\n",
    "    if i % 2:\n",
    "        continue    \n",
    "    print(i)"
   ]
  },
  {
   "cell_type": "code",
   "execution_count": 117,
   "id": "69c9620c-c930-465b-8ff6-e68cf674022c",
   "metadata": {},
   "outputs": [
    {
     "name": "stdout",
     "output_type": "stream",
     "text": [
      "23살은 성인입니다.\n",
      "30살은 성인입니다.\n",
      "29살은 성인입니다.\n"
     ]
    }
   ],
   "source": [
    "age = [10, 23, 8, 30, 29, 15]\n",
    "\n",
    "for a in age:\n",
    "    if a < 20:\n",
    "        continue\n",
    "    print(f'{a}살은 성인입니다.')"
   ]
  },
  {
   "cell_type": "markdown",
   "id": "74764b50-6b9a-45a3-abec-138894ec64fc",
   "metadata": {},
   "source": [
    "#### else\n",
    "else문은 끝까지 반복이 진행이 된 후 실행합니다. (break를 만나지 않은 경우)\n"
   ]
  },
  {
   "cell_type": "code",
   "execution_count": 122,
   "id": "7f9a4e55-1ed1-4016-9f22-87e88ebba40a",
   "metadata": {},
   "outputs": [
    {
     "name": "stdout",
     "output_type": "stream",
     "text": [
      "0\n",
      "1\n",
      "2\n",
      "3\n",
      "4\n",
      "5\n",
      "6\n",
      "7\n",
      "8\n",
      "9\n",
      "10\n",
      "11\n"
     ]
    }
   ],
   "source": [
    "for i in range(12):\n",
    "    print(i)\n",
    "    if i > 10:\n",
    "        break\n",
    "else:\n",
    "    print('break 못만남')"
   ]
  },
  {
   "cell_type": "code",
   "execution_count": 125,
   "id": "3aa751f6-1ee5-4542-83bf-9ef0d76114d8",
   "metadata": {},
   "outputs": [
    {
     "name": "stdout",
     "output_type": "stream",
     "text": [
      "True\n",
      "False\n"
     ]
    }
   ],
   "source": [
    "numbers = [1, 2, 3, 4, 5]\n",
    "print(1 in numbers)\n",
    "print(99 in numbers)"
   ]
  },
  {
   "cell_type": "code",
   "execution_count": 133,
   "id": "6bf175b3-1a1e-43c9-9949-92ee1fd7ac72",
   "metadata": {
    "scrolled": true
   },
   "outputs": [
    {
     "name": "stdout",
     "output_type": "stream",
     "text": [
      "True\n"
     ]
    }
   ],
   "source": [
    "numbers = [1, 2, 3, 4, 5]\n",
    "target = 5\n",
    "\n",
    "# numbers를 반복하다 target이 있으면 True, 없으면 False출력\n",
    "\n",
    "for number in numbers:\n",
    "    if number == target:\n",
    "        print(True)\n",
    "        break\n",
    "else:\n",
    "    print(False)"
   ]
  },
  {
   "cell_type": "markdown",
   "id": "5a45bb69-a046-4feb-bfba-3bf710cca34a",
   "metadata": {},
   "source": [
    "### pass\n",
    "for/if 문을 이용할 때, 임시로 처리하기 위해 이용"
   ]
  },
  {
   "cell_type": "code",
   "execution_count": 135,
   "id": "7c894c3b-645f-4bee-bd1e-307b312148d8",
   "metadata": {},
   "outputs": [],
   "source": [
    "if True:\n",
    "    pass"
   ]
  },
  {
   "cell_type": "markdown",
   "id": "b830585e-ee50-4817-ad3f-6568d6297ae1",
   "metadata": {},
   "source": [
    "### match\n",
    "```python\n",
    "match value:\n",
    "    case 조건:\n",
    "        실행할 코드\n",
    "    case 조건:\n",
    "        실행할 코드\n",
    "    case _:\n",
    "        실행할 코드\n",
    "```"
   ]
  },
  {
   "cell_type": "code",
   "execution_count": 141,
   "id": "704401f9-598b-4148-b784-42ab834a3cd7",
   "metadata": {},
   "outputs": [
    {
     "name": "stdout",
     "output_type": "stream",
     "text": [
      "Not found\n"
     ]
    }
   ],
   "source": [
    "status = 404\n",
    "\n",
    "match status:\n",
    "    case 400:\n",
    "        print('Bad request')\n",
    "    case 404:\n",
    "        print('Not found')\n",
    "    case _:\n",
    "         print('Something is wrong')"
   ]
  },
  {
   "cell_type": "code",
   "execution_count": null,
   "id": "c503b452-cb14-4682-8aee-8efe4dc860e4",
   "metadata": {},
   "outputs": [],
   "source": []
  },
  {
   "cell_type": "code",
   "execution_count": null,
   "id": "64b4a529-0f1d-4964-a5b3-745d55448709",
   "metadata": {},
   "outputs": [],
   "source": []
  }
 ],
 "metadata": {
  "kernelspec": {
   "display_name": "Python 3 (ipykernel)",
   "language": "python",
   "name": "python3"
  },
  "language_info": {
   "codemirror_mode": {
    "name": "ipython",
    "version": 3
   },
   "file_extension": ".py",
   "mimetype": "text/x-python",
   "name": "python",
   "nbconvert_exporter": "python",
   "pygments_lexer": "ipython3",
   "version": "3.11.5"
  }
 },
 "nbformat": 4,
 "nbformat_minor": 5
}

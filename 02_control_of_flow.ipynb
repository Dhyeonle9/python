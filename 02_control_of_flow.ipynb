{
 "cells": [
  {
   "cell_type": "markdown",
   "id": "7ae5e0e6-1444-4f8b-b3fd-d096b9814f6a",
   "metadata": {},
   "source": [
    "# 제어문"
   ]
  },
  {
   "cell_type": "markdown",
   "id": "6e98b4f0-42d0-4cb3-ad91-2e08ed358994",
   "metadata": {},
   "source": [
    "## 조건문 (if문)\n",
    "\n",
    "```python\n",
    "if <조건식>:\n",
    "    if의 조건식이 참인 경우 실행하는 코드\n",
    "else:\n",
    "    if의 조건식이 거짓인 경우 실행하는 코드\n",
    "```\n",
    "\n",
    "1. `if` 문은 반드시 참/거짓을 판단할 수 있는 `조건식`과 함께 사용한다.\n",
    "2. `조건식` 이 참인 경우 `:` 이후의 문장을 실행한다.\n",
    "3. `조건식` 이 거짓인 경우 : `else:` 이후의 문장을 실행한다."
   ]
  },
  {
   "cell_type": "code",
   "execution_count": 3,
   "id": "353b0636-b27c-4efa-9d59-b05c6c74f238",
   "metadata": {},
   "outputs": [
    {
     "name": "stdin",
     "output_type": "stream",
     "text": [
      " 12/12\n"
     ]
    },
    {
     "name": "stdout",
     "output_type": "stream",
     "text": [
      "크리스마스가 아닙니다.\n"
     ]
    }
   ],
   "source": [
    "my_string = input()\n",
    "\n",
    "if my_string == '12/25':\n",
    "    print('크리스마스입니다.')\n",
    "else:\n",
    "    print('크리스마스가 아닙니다.')"
   ]
  },
  {
   "cell_type": "code",
   "execution_count": 11,
   "id": "630ac67e-5216-419f-bdc5-2ae53ad41794",
   "metadata": {},
   "outputs": [
    {
     "name": "stdin",
     "output_type": "stream",
     "text": [
      "숫자를 입력해주세요 :  123\n"
     ]
    },
    {
     "name": "stdout",
     "output_type": "stream",
     "text": [
      "홀수입니다.\n"
     ]
    }
   ],
   "source": [
    "num = input('숫자를 입력해주세요 : ')\n",
    "num = int(num)\n",
    "\n",
    "if num % 2 == 0:\n",
    "    print('짝수입니다.')\n",
    "else:\n",
    "    print('홀수입니다.')"
   ]
  },
  {
   "cell_type": "code",
   "execution_count": 12,
   "id": "d95d9e8a-2ec9-4317-8fa1-d83fe4f55482",
   "metadata": {},
   "outputs": [
    {
     "name": "stdin",
     "output_type": "stream",
     "text": [
      "숫자를 입력해주세요 :  2\n"
     ]
    },
    {
     "name": "stdout",
     "output_type": "stream",
     "text": [
      "짝수입니다.\n"
     ]
    }
   ],
   "source": [
    "num = input('숫자를 입력해주세요 : ')\n",
    "num = int(num)\n",
    "\n",
    "if num % 2 == 1:\n",
    "    print('홀수입니다.')\n",
    "else:\n",
    "    print('짝수입니다.')"
   ]
  },
  {
   "cell_type": "code",
   "execution_count": null,
   "id": "9e1ea337-21de-4200-ac09-db481d0b47e2",
   "metadata": {},
   "outputs": [],
   "source": [
    "# num을 2로 나눈 나머지는 0, 1 두가지 경우가 있다.\n",
    "# if 조건식에 0, 1는 자동 형변환이 일어나 False/True로 변환된다.\n",
    "\n",
    "num = input('숫자를 입력해주세요 : ')\n",
    "num = int(num)\n",
    "\n",
    "if num % 2: # 2로 나눈 나머지 == 1 == True (1)\n",
    "    print('홀수입니다.')\n",
    "else:\n",
    "    print('짝수입니다.')"
   ]
  },
  {
   "cell_type": "markdown",
   "id": "3ea3371b-6c79-4f2c-8b9e-6877649e6541",
   "metadata": {},
   "source": [
    "### elif\n",
    "\n",
    "```python\n",
    "if <조건식>:\n",
    "    if 조건이 참인 경우 실행\n",
    "elif <조건식>:\n",
    "    elif 조건이 참인 경우 실행\n",
    "...\n",
    "else:\n",
    "    위의 조건식에 하나도 부합하지 않는 경우 실행\n",
    "```"
   ]
  },
  {
   "cell_type": "code",
   "execution_count": 20,
   "id": "3d7c9366-bd07-4842-b72a-f296777dc4a3",
   "metadata": {},
   "outputs": [
    {
     "name": "stdin",
     "output_type": "stream",
     "text": [
      "점수를 입력해주세요:  97\n"
     ]
    },
    {
     "name": "stdout",
     "output_type": "stream",
     "text": [
      "A\n",
      "good\n"
     ]
    }
   ],
   "source": [
    "score = int(input('점수를 입력해주세요: '))\n",
    "\n",
    "# 90점이상 A (95점이상이라면 good 추가)\n",
    "# 80점이상 B\n",
    "# 70점이상 C\n",
    "# 나머지 F\n",
    "if 0<=score<=100:\n",
    "    \n",
    "    if score>=90:\n",
    "        print('A')\n",
    "        if score>=95:\n",
    "            print('good')\n",
    "    elif score>=80:\n",
    "        print('B')\n",
    "    elif score>=70:\n",
    "        print('C')\n",
    "    else:\n",
    "        print('F')\n",
    "else:\n",
    "    print('잘못된 값입니다.')"
   ]
  },
  {
   "cell_type": "code",
   "execution_count": null,
   "id": "16dcccf8-7c71-4e74-a1c2-be2f97cc055c",
   "metadata": {},
   "outputs": [],
   "source": []
  },
  {
   "cell_type": "code",
   "execution_count": null,
   "id": "a0c96fa9-0037-406b-a16d-561042004791",
   "metadata": {},
   "outputs": [],
   "source": []
  },
  {
   "cell_type": "code",
   "execution_count": null,
   "id": "4e223aa5-4479-4a74-97ae-35037c37f246",
   "metadata": {},
   "outputs": [],
   "source": []
  },
  {
   "cell_type": "code",
   "execution_count": null,
   "id": "f2c75a84-90e7-48dd-bbeb-5f3a3b21f34b",
   "metadata": {},
   "outputs": [],
   "source": []
  },
  {
   "cell_type": "code",
   "execution_count": null,
   "id": "ebee9e1b-209e-4c4e-94c4-a896d51d374e",
   "metadata": {},
   "outputs": [],
   "source": []
  }
 ],
 "metadata": {
  "kernelspec": {
   "display_name": "Python 3 (ipykernel)",
   "language": "python",
   "name": "python3"
  },
  "language_info": {
   "codemirror_mode": {
    "name": "ipython",
    "version": 3
   },
   "file_extension": ".py",
   "mimetype": "text/x-python",
   "name": "python",
   "nbconvert_exporter": "python",
   "pygments_lexer": "ipython3",
   "version": "3.11.5"
  }
 },
 "nbformat": 4,
 "nbformat_minor": 5
}
